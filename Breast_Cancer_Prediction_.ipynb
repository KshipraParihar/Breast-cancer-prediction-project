{
  "cells": [
    {
      "cell_type": "markdown",
      "metadata": {
        "id": "view-in-github",
        "colab_type": "text"
      },
      "source": [
        "<a href=\"https://colab.research.google.com/github/KshipraParihar/Breast-cancer-prediction-project/blob/main/Breast_Cancer_Prediction_.ipynb\" target=\"_parent\"><img src=\"https://colab.research.google.com/assets/colab-badge.svg\" alt=\"Open In Colab\"/></a>"
      ]
    },
    {
      "cell_type": "code",
      "execution_count": 1,
      "metadata": {
        "id": "l-5X0KoXysUB"
      },
      "outputs": [],
      "source": [
        "import pandas as pd\n",
        "import numpy as np\n",
        "import seaborn as sns\n",
        "import matplotlib.pyplot as plt\n",
        "%matplotlib inline"
      ]
    },
    {
      "cell_type": "code",
      "execution_count": 2,
      "metadata": {
        "id": "uZ0jmVGEysUG"
      },
      "outputs": [],
      "source": [
        "import itertools\n",
        "from itertools import chain\n",
        "from sklearn.feature_selection import RFE\n",
        "from sklearn.decomposition import PCA\n",
        "from sklearn.preprocessing import StandardScaler\n",
        "from sklearn.linear_model import LogisticRegression\n",
        "from sklearn.ensemble import VotingClassifier\n",
        "from sklearn.model_selection import GridSearchCV, cross_val_score, learning_curve, train_test_split\n",
        "from sklearn.metrics import precision_score, recall_score, confusion_matrix, roc_curve, precision_recall_curve, accuracy_score"
      ]
    },
    {
      "cell_type": "code",
      "execution_count": 3,
      "metadata": {
        "id": "s5VAAtAIysUG"
      },
      "outputs": [],
      "source": [
        "import warnings\n",
        "warnings.filterwarnings('ignore') #ignore warning messages "
      ]
    },
    {
      "cell_type": "code",
      "source": [
        "from google.colab import drive\n",
        "drive.mount('/content/drive')"
      ],
      "metadata": {
        "colab": {
          "base_uri": "https://localhost:8080/"
        },
        "id": "3CfeZB1H0flD",
        "outputId": "5f1f5191-6cb4-452a-d26b-d7330fecf22c"
      },
      "execution_count": 5,
      "outputs": [
        {
          "output_type": "stream",
          "name": "stdout",
          "text": [
            "Mounted at /content/drive\n"
          ]
        }
      ]
    },
    {
      "cell_type": "code",
      "execution_count": 7,
      "metadata": {
        "colab": {
          "base_uri": "https://localhost:8080/",
          "height": 317
        },
        "id": "F8-C8prPysUI",
        "outputId": "e05316dd-1b4e-48ff-d28f-b60b50819cfe"
      },
      "outputs": [
        {
          "output_type": "execute_result",
          "data": {
            "text/plain": [
              "         id diagnosis  radius_mean  texture_mean  perimeter_mean  area_mean  \\\n",
              "0    842302         M        17.99         10.38          122.80     1001.0   \n",
              "1    842517         M        20.57         17.77          132.90     1326.0   \n",
              "2  84300903         M        19.69         21.25          130.00     1203.0   \n",
              "3  84348301         M        11.42         20.38           77.58      386.1   \n",
              "4  84358402         M        20.29         14.34          135.10     1297.0   \n",
              "\n",
              "   smoothness_mean  compactness_mean  concavity_mean  concave points_mean  \\\n",
              "0          0.11840           0.27760          0.3001              0.14710   \n",
              "1          0.08474           0.07864          0.0869              0.07017   \n",
              "2          0.10960           0.15990          0.1974              0.12790   \n",
              "3          0.14250           0.28390          0.2414              0.10520   \n",
              "4          0.10030           0.13280          0.1980              0.10430   \n",
              "\n",
              "   ...  texture_worst  perimeter_worst  area_worst  smoothness_worst  \\\n",
              "0  ...          17.33           184.60      2019.0            0.1622   \n",
              "1  ...          23.41           158.80      1956.0            0.1238   \n",
              "2  ...          25.53           152.50      1709.0            0.1444   \n",
              "3  ...          26.50            98.87       567.7            0.2098   \n",
              "4  ...          16.67           152.20      1575.0            0.1374   \n",
              "\n",
              "   compactness_worst  concavity_worst  concave points_worst  symmetry_worst  \\\n",
              "0             0.6656           0.7119                0.2654          0.4601   \n",
              "1             0.1866           0.2416                0.1860          0.2750   \n",
              "2             0.4245           0.4504                0.2430          0.3613   \n",
              "3             0.8663           0.6869                0.2575          0.6638   \n",
              "4             0.2050           0.4000                0.1625          0.2364   \n",
              "\n",
              "   fractal_dimension_worst  Unnamed: 32  \n",
              "0                  0.11890          NaN  \n",
              "1                  0.08902          NaN  \n",
              "2                  0.08758          NaN  \n",
              "3                  0.17300          NaN  \n",
              "4                  0.07678          NaN  \n",
              "\n",
              "[5 rows x 33 columns]"
            ],
            "text/html": [
              "\n",
              "  <div id=\"df-1e920eb9-2ec9-420f-a5e5-8750b54d0f54\">\n",
              "    <div class=\"colab-df-container\">\n",
              "      <div>\n",
              "<style scoped>\n",
              "    .dataframe tbody tr th:only-of-type {\n",
              "        vertical-align: middle;\n",
              "    }\n",
              "\n",
              "    .dataframe tbody tr th {\n",
              "        vertical-align: top;\n",
              "    }\n",
              "\n",
              "    .dataframe thead th {\n",
              "        text-align: right;\n",
              "    }\n",
              "</style>\n",
              "<table border=\"1\" class=\"dataframe\">\n",
              "  <thead>\n",
              "    <tr style=\"text-align: right;\">\n",
              "      <th></th>\n",
              "      <th>id</th>\n",
              "      <th>diagnosis</th>\n",
              "      <th>radius_mean</th>\n",
              "      <th>texture_mean</th>\n",
              "      <th>perimeter_mean</th>\n",
              "      <th>area_mean</th>\n",
              "      <th>smoothness_mean</th>\n",
              "      <th>compactness_mean</th>\n",
              "      <th>concavity_mean</th>\n",
              "      <th>concave points_mean</th>\n",
              "      <th>...</th>\n",
              "      <th>texture_worst</th>\n",
              "      <th>perimeter_worst</th>\n",
              "      <th>area_worst</th>\n",
              "      <th>smoothness_worst</th>\n",
              "      <th>compactness_worst</th>\n",
              "      <th>concavity_worst</th>\n",
              "      <th>concave points_worst</th>\n",
              "      <th>symmetry_worst</th>\n",
              "      <th>fractal_dimension_worst</th>\n",
              "      <th>Unnamed: 32</th>\n",
              "    </tr>\n",
              "  </thead>\n",
              "  <tbody>\n",
              "    <tr>\n",
              "      <th>0</th>\n",
              "      <td>842302</td>\n",
              "      <td>M</td>\n",
              "      <td>17.99</td>\n",
              "      <td>10.38</td>\n",
              "      <td>122.80</td>\n",
              "      <td>1001.0</td>\n",
              "      <td>0.11840</td>\n",
              "      <td>0.27760</td>\n",
              "      <td>0.3001</td>\n",
              "      <td>0.14710</td>\n",
              "      <td>...</td>\n",
              "      <td>17.33</td>\n",
              "      <td>184.60</td>\n",
              "      <td>2019.0</td>\n",
              "      <td>0.1622</td>\n",
              "      <td>0.6656</td>\n",
              "      <td>0.7119</td>\n",
              "      <td>0.2654</td>\n",
              "      <td>0.4601</td>\n",
              "      <td>0.11890</td>\n",
              "      <td>NaN</td>\n",
              "    </tr>\n",
              "    <tr>\n",
              "      <th>1</th>\n",
              "      <td>842517</td>\n",
              "      <td>M</td>\n",
              "      <td>20.57</td>\n",
              "      <td>17.77</td>\n",
              "      <td>132.90</td>\n",
              "      <td>1326.0</td>\n",
              "      <td>0.08474</td>\n",
              "      <td>0.07864</td>\n",
              "      <td>0.0869</td>\n",
              "      <td>0.07017</td>\n",
              "      <td>...</td>\n",
              "      <td>23.41</td>\n",
              "      <td>158.80</td>\n",
              "      <td>1956.0</td>\n",
              "      <td>0.1238</td>\n",
              "      <td>0.1866</td>\n",
              "      <td>0.2416</td>\n",
              "      <td>0.1860</td>\n",
              "      <td>0.2750</td>\n",
              "      <td>0.08902</td>\n",
              "      <td>NaN</td>\n",
              "    </tr>\n",
              "    <tr>\n",
              "      <th>2</th>\n",
              "      <td>84300903</td>\n",
              "      <td>M</td>\n",
              "      <td>19.69</td>\n",
              "      <td>21.25</td>\n",
              "      <td>130.00</td>\n",
              "      <td>1203.0</td>\n",
              "      <td>0.10960</td>\n",
              "      <td>0.15990</td>\n",
              "      <td>0.1974</td>\n",
              "      <td>0.12790</td>\n",
              "      <td>...</td>\n",
              "      <td>25.53</td>\n",
              "      <td>152.50</td>\n",
              "      <td>1709.0</td>\n",
              "      <td>0.1444</td>\n",
              "      <td>0.4245</td>\n",
              "      <td>0.4504</td>\n",
              "      <td>0.2430</td>\n",
              "      <td>0.3613</td>\n",
              "      <td>0.08758</td>\n",
              "      <td>NaN</td>\n",
              "    </tr>\n",
              "    <tr>\n",
              "      <th>3</th>\n",
              "      <td>84348301</td>\n",
              "      <td>M</td>\n",
              "      <td>11.42</td>\n",
              "      <td>20.38</td>\n",
              "      <td>77.58</td>\n",
              "      <td>386.1</td>\n",
              "      <td>0.14250</td>\n",
              "      <td>0.28390</td>\n",
              "      <td>0.2414</td>\n",
              "      <td>0.10520</td>\n",
              "      <td>...</td>\n",
              "      <td>26.50</td>\n",
              "      <td>98.87</td>\n",
              "      <td>567.7</td>\n",
              "      <td>0.2098</td>\n",
              "      <td>0.8663</td>\n",
              "      <td>0.6869</td>\n",
              "      <td>0.2575</td>\n",
              "      <td>0.6638</td>\n",
              "      <td>0.17300</td>\n",
              "      <td>NaN</td>\n",
              "    </tr>\n",
              "    <tr>\n",
              "      <th>4</th>\n",
              "      <td>84358402</td>\n",
              "      <td>M</td>\n",
              "      <td>20.29</td>\n",
              "      <td>14.34</td>\n",
              "      <td>135.10</td>\n",
              "      <td>1297.0</td>\n",
              "      <td>0.10030</td>\n",
              "      <td>0.13280</td>\n",
              "      <td>0.1980</td>\n",
              "      <td>0.10430</td>\n",
              "      <td>...</td>\n",
              "      <td>16.67</td>\n",
              "      <td>152.20</td>\n",
              "      <td>1575.0</td>\n",
              "      <td>0.1374</td>\n",
              "      <td>0.2050</td>\n",
              "      <td>0.4000</td>\n",
              "      <td>0.1625</td>\n",
              "      <td>0.2364</td>\n",
              "      <td>0.07678</td>\n",
              "      <td>NaN</td>\n",
              "    </tr>\n",
              "  </tbody>\n",
              "</table>\n",
              "<p>5 rows × 33 columns</p>\n",
              "</div>\n",
              "      <button class=\"colab-df-convert\" onclick=\"convertToInteractive('df-1e920eb9-2ec9-420f-a5e5-8750b54d0f54')\"\n",
              "              title=\"Convert this dataframe to an interactive table.\"\n",
              "              style=\"display:none;\">\n",
              "        \n",
              "  <svg xmlns=\"http://www.w3.org/2000/svg\" height=\"24px\"viewBox=\"0 0 24 24\"\n",
              "       width=\"24px\">\n",
              "    <path d=\"M0 0h24v24H0V0z\" fill=\"none\"/>\n",
              "    <path d=\"M18.56 5.44l.94 2.06.94-2.06 2.06-.94-2.06-.94-.94-2.06-.94 2.06-2.06.94zm-11 1L8.5 8.5l.94-2.06 2.06-.94-2.06-.94L8.5 2.5l-.94 2.06-2.06.94zm10 10l.94 2.06.94-2.06 2.06-.94-2.06-.94-.94-2.06-.94 2.06-2.06.94z\"/><path d=\"M17.41 7.96l-1.37-1.37c-.4-.4-.92-.59-1.43-.59-.52 0-1.04.2-1.43.59L10.3 9.45l-7.72 7.72c-.78.78-.78 2.05 0 2.83L4 21.41c.39.39.9.59 1.41.59.51 0 1.02-.2 1.41-.59l7.78-7.78 2.81-2.81c.8-.78.8-2.07 0-2.86zM5.41 20L4 18.59l7.72-7.72 1.47 1.35L5.41 20z\"/>\n",
              "  </svg>\n",
              "      </button>\n",
              "      \n",
              "  <style>\n",
              "    .colab-df-container {\n",
              "      display:flex;\n",
              "      flex-wrap:wrap;\n",
              "      gap: 12px;\n",
              "    }\n",
              "\n",
              "    .colab-df-convert {\n",
              "      background-color: #E8F0FE;\n",
              "      border: none;\n",
              "      border-radius: 50%;\n",
              "      cursor: pointer;\n",
              "      display: none;\n",
              "      fill: #1967D2;\n",
              "      height: 32px;\n",
              "      padding: 0 0 0 0;\n",
              "      width: 32px;\n",
              "    }\n",
              "\n",
              "    .colab-df-convert:hover {\n",
              "      background-color: #E2EBFA;\n",
              "      box-shadow: 0px 1px 2px rgba(60, 64, 67, 0.3), 0px 1px 3px 1px rgba(60, 64, 67, 0.15);\n",
              "      fill: #174EA6;\n",
              "    }\n",
              "\n",
              "    [theme=dark] .colab-df-convert {\n",
              "      background-color: #3B4455;\n",
              "      fill: #D2E3FC;\n",
              "    }\n",
              "\n",
              "    [theme=dark] .colab-df-convert:hover {\n",
              "      background-color: #434B5C;\n",
              "      box-shadow: 0px 1px 3px 1px rgba(0, 0, 0, 0.15);\n",
              "      filter: drop-shadow(0px 1px 2px rgba(0, 0, 0, 0.3));\n",
              "      fill: #FFFFFF;\n",
              "    }\n",
              "  </style>\n",
              "\n",
              "      <script>\n",
              "        const buttonEl =\n",
              "          document.querySelector('#df-1e920eb9-2ec9-420f-a5e5-8750b54d0f54 button.colab-df-convert');\n",
              "        buttonEl.style.display =\n",
              "          google.colab.kernel.accessAllowed ? 'block' : 'none';\n",
              "\n",
              "        async function convertToInteractive(key) {\n",
              "          const element = document.querySelector('#df-1e920eb9-2ec9-420f-a5e5-8750b54d0f54');\n",
              "          const dataTable =\n",
              "            await google.colab.kernel.invokeFunction('convertToInteractive',\n",
              "                                                     [key], {});\n",
              "          if (!dataTable) return;\n",
              "\n",
              "          const docLinkHtml = 'Like what you see? Visit the ' +\n",
              "            '<a target=\"_blank\" href=https://colab.research.google.com/notebooks/data_table.ipynb>data table notebook</a>'\n",
              "            + ' to learn more about interactive tables.';\n",
              "          element.innerHTML = '';\n",
              "          dataTable['output_type'] = 'display_data';\n",
              "          await google.colab.output.renderOutput(dataTable, element);\n",
              "          const docLink = document.createElement('div');\n",
              "          docLink.innerHTML = docLinkHtml;\n",
              "          element.appendChild(docLink);\n",
              "        }\n",
              "      </script>\n",
              "    </div>\n",
              "  </div>\n",
              "  "
            ]
          },
          "metadata": {},
          "execution_count": 7
        }
      ],
      "source": [
        "df = pd.read_csv('/content/drive/MyDrive/project/cancer.csv')\n",
        "df.head()"
      ]
    },
    {
      "cell_type": "code",
      "execution_count": 8,
      "metadata": {
        "colab": {
          "base_uri": "https://localhost:8080/"
        },
        "id": "dWNNhd2hysUJ",
        "outputId": "77ec8b41-153e-4780-b7e7-8a5e2799e351"
      },
      "outputs": [
        {
          "output_type": "execute_result",
          "data": {
            "text/plain": [
              "(569, 33)"
            ]
          },
          "metadata": {},
          "execution_count": 8
        }
      ],
      "source": [
        "# count the number of row and column in the dataset\n",
        "df.shape"
      ]
    },
    {
      "cell_type": "code",
      "execution_count": 9,
      "metadata": {
        "colab": {
          "base_uri": "https://localhost:8080/"
        },
        "id": "byOgoYunysUK",
        "outputId": "8283b10f-c2b1-4d9b-ebbc-42eec8e46e94"
      },
      "outputs": [
        {
          "output_type": "execute_result",
          "data": {
            "text/plain": [
              "id                           0\n",
              "diagnosis                    0\n",
              "radius_mean                  0\n",
              "texture_mean                 0\n",
              "perimeter_mean               0\n",
              "area_mean                    0\n",
              "smoothness_mean              0\n",
              "compactness_mean             0\n",
              "concavity_mean               0\n",
              "concave points_mean          0\n",
              "symmetry_mean                0\n",
              "fractal_dimension_mean       0\n",
              "radius_se                    0\n",
              "texture_se                   0\n",
              "perimeter_se                 0\n",
              "area_se                      0\n",
              "smoothness_se                0\n",
              "compactness_se               0\n",
              "concavity_se                 0\n",
              "concave points_se            0\n",
              "symmetry_se                  0\n",
              "fractal_dimension_se         0\n",
              "radius_worst                 0\n",
              "texture_worst                0\n",
              "perimeter_worst              0\n",
              "area_worst                   0\n",
              "smoothness_worst             0\n",
              "compactness_worst            0\n",
              "concavity_worst              0\n",
              "concave points_worst         0\n",
              "symmetry_worst               0\n",
              "fractal_dimension_worst      0\n",
              "Unnamed: 32                569\n",
              "dtype: int64"
            ]
          },
          "metadata": {},
          "execution_count": 9
        }
      ],
      "source": [
        "# check missing (NaN, NAN, na) data in the dataset in each column\n",
        "df.isna().sum()"
      ]
    },
    {
      "cell_type": "code",
      "execution_count": 10,
      "metadata": {
        "colab": {
          "base_uri": "https://localhost:8080/",
          "height": 317
        },
        "id": "pZ5BepIKysUK",
        "outputId": "57093ca4-970d-439a-dbc6-0691456ba9f9"
      },
      "outputs": [
        {
          "output_type": "execute_result",
          "data": {
            "text/plain": [
              "         id diagnosis  radius_mean  texture_mean  perimeter_mean  area_mean  \\\n",
              "0    842302         M        17.99         10.38          122.80     1001.0   \n",
              "1    842517         M        20.57         17.77          132.90     1326.0   \n",
              "2  84300903         M        19.69         21.25          130.00     1203.0   \n",
              "3  84348301         M        11.42         20.38           77.58      386.1   \n",
              "4  84358402         M        20.29         14.34          135.10     1297.0   \n",
              "\n",
              "   smoothness_mean  compactness_mean  concavity_mean  concave points_mean  \\\n",
              "0          0.11840           0.27760          0.3001              0.14710   \n",
              "1          0.08474           0.07864          0.0869              0.07017   \n",
              "2          0.10960           0.15990          0.1974              0.12790   \n",
              "3          0.14250           0.28390          0.2414              0.10520   \n",
              "4          0.10030           0.13280          0.1980              0.10430   \n",
              "\n",
              "   ...  radius_worst  texture_worst  perimeter_worst  area_worst  \\\n",
              "0  ...         25.38          17.33           184.60      2019.0   \n",
              "1  ...         24.99          23.41           158.80      1956.0   \n",
              "2  ...         23.57          25.53           152.50      1709.0   \n",
              "3  ...         14.91          26.50            98.87       567.7   \n",
              "4  ...         22.54          16.67           152.20      1575.0   \n",
              "\n",
              "   smoothness_worst  compactness_worst  concavity_worst  concave points_worst  \\\n",
              "0            0.1622             0.6656           0.7119                0.2654   \n",
              "1            0.1238             0.1866           0.2416                0.1860   \n",
              "2            0.1444             0.4245           0.4504                0.2430   \n",
              "3            0.2098             0.8663           0.6869                0.2575   \n",
              "4            0.1374             0.2050           0.4000                0.1625   \n",
              "\n",
              "   symmetry_worst  fractal_dimension_worst  \n",
              "0          0.4601                  0.11890  \n",
              "1          0.2750                  0.08902  \n",
              "2          0.3613                  0.08758  \n",
              "3          0.6638                  0.17300  \n",
              "4          0.2364                  0.07678  \n",
              "\n",
              "[5 rows x 32 columns]"
            ],
            "text/html": [
              "\n",
              "  <div id=\"df-92640e1e-a04b-44f2-9270-aedb335db200\">\n",
              "    <div class=\"colab-df-container\">\n",
              "      <div>\n",
              "<style scoped>\n",
              "    .dataframe tbody tr th:only-of-type {\n",
              "        vertical-align: middle;\n",
              "    }\n",
              "\n",
              "    .dataframe tbody tr th {\n",
              "        vertical-align: top;\n",
              "    }\n",
              "\n",
              "    .dataframe thead th {\n",
              "        text-align: right;\n",
              "    }\n",
              "</style>\n",
              "<table border=\"1\" class=\"dataframe\">\n",
              "  <thead>\n",
              "    <tr style=\"text-align: right;\">\n",
              "      <th></th>\n",
              "      <th>id</th>\n",
              "      <th>diagnosis</th>\n",
              "      <th>radius_mean</th>\n",
              "      <th>texture_mean</th>\n",
              "      <th>perimeter_mean</th>\n",
              "      <th>area_mean</th>\n",
              "      <th>smoothness_mean</th>\n",
              "      <th>compactness_mean</th>\n",
              "      <th>concavity_mean</th>\n",
              "      <th>concave points_mean</th>\n",
              "      <th>...</th>\n",
              "      <th>radius_worst</th>\n",
              "      <th>texture_worst</th>\n",
              "      <th>perimeter_worst</th>\n",
              "      <th>area_worst</th>\n",
              "      <th>smoothness_worst</th>\n",
              "      <th>compactness_worst</th>\n",
              "      <th>concavity_worst</th>\n",
              "      <th>concave points_worst</th>\n",
              "      <th>symmetry_worst</th>\n",
              "      <th>fractal_dimension_worst</th>\n",
              "    </tr>\n",
              "  </thead>\n",
              "  <tbody>\n",
              "    <tr>\n",
              "      <th>0</th>\n",
              "      <td>842302</td>\n",
              "      <td>M</td>\n",
              "      <td>17.99</td>\n",
              "      <td>10.38</td>\n",
              "      <td>122.80</td>\n",
              "      <td>1001.0</td>\n",
              "      <td>0.11840</td>\n",
              "      <td>0.27760</td>\n",
              "      <td>0.3001</td>\n",
              "      <td>0.14710</td>\n",
              "      <td>...</td>\n",
              "      <td>25.38</td>\n",
              "      <td>17.33</td>\n",
              "      <td>184.60</td>\n",
              "      <td>2019.0</td>\n",
              "      <td>0.1622</td>\n",
              "      <td>0.6656</td>\n",
              "      <td>0.7119</td>\n",
              "      <td>0.2654</td>\n",
              "      <td>0.4601</td>\n",
              "      <td>0.11890</td>\n",
              "    </tr>\n",
              "    <tr>\n",
              "      <th>1</th>\n",
              "      <td>842517</td>\n",
              "      <td>M</td>\n",
              "      <td>20.57</td>\n",
              "      <td>17.77</td>\n",
              "      <td>132.90</td>\n",
              "      <td>1326.0</td>\n",
              "      <td>0.08474</td>\n",
              "      <td>0.07864</td>\n",
              "      <td>0.0869</td>\n",
              "      <td>0.07017</td>\n",
              "      <td>...</td>\n",
              "      <td>24.99</td>\n",
              "      <td>23.41</td>\n",
              "      <td>158.80</td>\n",
              "      <td>1956.0</td>\n",
              "      <td>0.1238</td>\n",
              "      <td>0.1866</td>\n",
              "      <td>0.2416</td>\n",
              "      <td>0.1860</td>\n",
              "      <td>0.2750</td>\n",
              "      <td>0.08902</td>\n",
              "    </tr>\n",
              "    <tr>\n",
              "      <th>2</th>\n",
              "      <td>84300903</td>\n",
              "      <td>M</td>\n",
              "      <td>19.69</td>\n",
              "      <td>21.25</td>\n",
              "      <td>130.00</td>\n",
              "      <td>1203.0</td>\n",
              "      <td>0.10960</td>\n",
              "      <td>0.15990</td>\n",
              "      <td>0.1974</td>\n",
              "      <td>0.12790</td>\n",
              "      <td>...</td>\n",
              "      <td>23.57</td>\n",
              "      <td>25.53</td>\n",
              "      <td>152.50</td>\n",
              "      <td>1709.0</td>\n",
              "      <td>0.1444</td>\n",
              "      <td>0.4245</td>\n",
              "      <td>0.4504</td>\n",
              "      <td>0.2430</td>\n",
              "      <td>0.3613</td>\n",
              "      <td>0.08758</td>\n",
              "    </tr>\n",
              "    <tr>\n",
              "      <th>3</th>\n",
              "      <td>84348301</td>\n",
              "      <td>M</td>\n",
              "      <td>11.42</td>\n",
              "      <td>20.38</td>\n",
              "      <td>77.58</td>\n",
              "      <td>386.1</td>\n",
              "      <td>0.14250</td>\n",
              "      <td>0.28390</td>\n",
              "      <td>0.2414</td>\n",
              "      <td>0.10520</td>\n",
              "      <td>...</td>\n",
              "      <td>14.91</td>\n",
              "      <td>26.50</td>\n",
              "      <td>98.87</td>\n",
              "      <td>567.7</td>\n",
              "      <td>0.2098</td>\n",
              "      <td>0.8663</td>\n",
              "      <td>0.6869</td>\n",
              "      <td>0.2575</td>\n",
              "      <td>0.6638</td>\n",
              "      <td>0.17300</td>\n",
              "    </tr>\n",
              "    <tr>\n",
              "      <th>4</th>\n",
              "      <td>84358402</td>\n",
              "      <td>M</td>\n",
              "      <td>20.29</td>\n",
              "      <td>14.34</td>\n",
              "      <td>135.10</td>\n",
              "      <td>1297.0</td>\n",
              "      <td>0.10030</td>\n",
              "      <td>0.13280</td>\n",
              "      <td>0.1980</td>\n",
              "      <td>0.10430</td>\n",
              "      <td>...</td>\n",
              "      <td>22.54</td>\n",
              "      <td>16.67</td>\n",
              "      <td>152.20</td>\n",
              "      <td>1575.0</td>\n",
              "      <td>0.1374</td>\n",
              "      <td>0.2050</td>\n",
              "      <td>0.4000</td>\n",
              "      <td>0.1625</td>\n",
              "      <td>0.2364</td>\n",
              "      <td>0.07678</td>\n",
              "    </tr>\n",
              "  </tbody>\n",
              "</table>\n",
              "<p>5 rows × 32 columns</p>\n",
              "</div>\n",
              "      <button class=\"colab-df-convert\" onclick=\"convertToInteractive('df-92640e1e-a04b-44f2-9270-aedb335db200')\"\n",
              "              title=\"Convert this dataframe to an interactive table.\"\n",
              "              style=\"display:none;\">\n",
              "        \n",
              "  <svg xmlns=\"http://www.w3.org/2000/svg\" height=\"24px\"viewBox=\"0 0 24 24\"\n",
              "       width=\"24px\">\n",
              "    <path d=\"M0 0h24v24H0V0z\" fill=\"none\"/>\n",
              "    <path d=\"M18.56 5.44l.94 2.06.94-2.06 2.06-.94-2.06-.94-.94-2.06-.94 2.06-2.06.94zm-11 1L8.5 8.5l.94-2.06 2.06-.94-2.06-.94L8.5 2.5l-.94 2.06-2.06.94zm10 10l.94 2.06.94-2.06 2.06-.94-2.06-.94-.94-2.06-.94 2.06-2.06.94z\"/><path d=\"M17.41 7.96l-1.37-1.37c-.4-.4-.92-.59-1.43-.59-.52 0-1.04.2-1.43.59L10.3 9.45l-7.72 7.72c-.78.78-.78 2.05 0 2.83L4 21.41c.39.39.9.59 1.41.59.51 0 1.02-.2 1.41-.59l7.78-7.78 2.81-2.81c.8-.78.8-2.07 0-2.86zM5.41 20L4 18.59l7.72-7.72 1.47 1.35L5.41 20z\"/>\n",
              "  </svg>\n",
              "      </button>\n",
              "      \n",
              "  <style>\n",
              "    .colab-df-container {\n",
              "      display:flex;\n",
              "      flex-wrap:wrap;\n",
              "      gap: 12px;\n",
              "    }\n",
              "\n",
              "    .colab-df-convert {\n",
              "      background-color: #E8F0FE;\n",
              "      border: none;\n",
              "      border-radius: 50%;\n",
              "      cursor: pointer;\n",
              "      display: none;\n",
              "      fill: #1967D2;\n",
              "      height: 32px;\n",
              "      padding: 0 0 0 0;\n",
              "      width: 32px;\n",
              "    }\n",
              "\n",
              "    .colab-df-convert:hover {\n",
              "      background-color: #E2EBFA;\n",
              "      box-shadow: 0px 1px 2px rgba(60, 64, 67, 0.3), 0px 1px 3px 1px rgba(60, 64, 67, 0.15);\n",
              "      fill: #174EA6;\n",
              "    }\n",
              "\n",
              "    [theme=dark] .colab-df-convert {\n",
              "      background-color: #3B4455;\n",
              "      fill: #D2E3FC;\n",
              "    }\n",
              "\n",
              "    [theme=dark] .colab-df-convert:hover {\n",
              "      background-color: #434B5C;\n",
              "      box-shadow: 0px 1px 3px 1px rgba(0, 0, 0, 0.15);\n",
              "      filter: drop-shadow(0px 1px 2px rgba(0, 0, 0, 0.3));\n",
              "      fill: #FFFFFF;\n",
              "    }\n",
              "  </style>\n",
              "\n",
              "      <script>\n",
              "        const buttonEl =\n",
              "          document.querySelector('#df-92640e1e-a04b-44f2-9270-aedb335db200 button.colab-df-convert');\n",
              "        buttonEl.style.display =\n",
              "          google.colab.kernel.accessAllowed ? 'block' : 'none';\n",
              "\n",
              "        async function convertToInteractive(key) {\n",
              "          const element = document.querySelector('#df-92640e1e-a04b-44f2-9270-aedb335db200');\n",
              "          const dataTable =\n",
              "            await google.colab.kernel.invokeFunction('convertToInteractive',\n",
              "                                                     [key], {});\n",
              "          if (!dataTable) return;\n",
              "\n",
              "          const docLinkHtml = 'Like what you see? Visit the ' +\n",
              "            '<a target=\"_blank\" href=https://colab.research.google.com/notebooks/data_table.ipynb>data table notebook</a>'\n",
              "            + ' to learn more about interactive tables.';\n",
              "          element.innerHTML = '';\n",
              "          dataTable['output_type'] = 'display_data';\n",
              "          await google.colab.output.renderOutput(dataTable, element);\n",
              "          const docLink = document.createElement('div');\n",
              "          docLink.innerHTML = docLinkHtml;\n",
              "          element.appendChild(docLink);\n",
              "        }\n",
              "      </script>\n",
              "    </div>\n",
              "  </div>\n",
              "  "
            ]
          },
          "metadata": {},
          "execution_count": 10
        }
      ],
      "source": [
        "# drop the missing value column (Unnamed: 32) \n",
        "df= df.dropna(axis=1)\n",
        "df.head()"
      ]
    },
    {
      "cell_type": "code",
      "execution_count": 11,
      "metadata": {
        "colab": {
          "base_uri": "https://localhost:8080/",
          "height": 411
        },
        "id": "vFCgEjUbysUL",
        "outputId": "09440422-3acf-48fa-aa4e-e381e5fb3079"
      },
      "outputs": [
        {
          "output_type": "execute_result",
          "data": {
            "text/plain": [
              "                 id  radius_mean  texture_mean  perimeter_mean    area_mean  \\\n",
              "count  5.690000e+02   569.000000    569.000000      569.000000   569.000000   \n",
              "mean   3.037183e+07    14.127292     19.289649       91.969033   654.889104   \n",
              "std    1.250206e+08     3.524049      4.301036       24.298981   351.914129   \n",
              "min    8.670000e+03     6.981000      9.710000       43.790000   143.500000   \n",
              "25%    8.692180e+05    11.700000     16.170000       75.170000   420.300000   \n",
              "50%    9.060240e+05    13.370000     18.840000       86.240000   551.100000   \n",
              "75%    8.813129e+06    15.780000     21.800000      104.100000   782.700000   \n",
              "max    9.113205e+08    28.110000     39.280000      188.500000  2501.000000   \n",
              "\n",
              "       smoothness_mean  compactness_mean  concavity_mean  concave points_mean  \\\n",
              "count       569.000000        569.000000      569.000000           569.000000   \n",
              "mean          0.096360          0.104341        0.088799             0.048919   \n",
              "std           0.014064          0.052813        0.079720             0.038803   \n",
              "min           0.052630          0.019380        0.000000             0.000000   \n",
              "25%           0.086370          0.064920        0.029560             0.020310   \n",
              "50%           0.095870          0.092630        0.061540             0.033500   \n",
              "75%           0.105300          0.130400        0.130700             0.074000   \n",
              "max           0.163400          0.345400        0.426800             0.201200   \n",
              "\n",
              "       symmetry_mean  ...  radius_worst  texture_worst  perimeter_worst  \\\n",
              "count     569.000000  ...    569.000000     569.000000       569.000000   \n",
              "mean        0.181162  ...     16.269190      25.677223       107.261213   \n",
              "std         0.027414  ...      4.833242       6.146258        33.602542   \n",
              "min         0.106000  ...      7.930000      12.020000        50.410000   \n",
              "25%         0.161900  ...     13.010000      21.080000        84.110000   \n",
              "50%         0.179200  ...     14.970000      25.410000        97.660000   \n",
              "75%         0.195700  ...     18.790000      29.720000       125.400000   \n",
              "max         0.304000  ...     36.040000      49.540000       251.200000   \n",
              "\n",
              "        area_worst  smoothness_worst  compactness_worst  concavity_worst  \\\n",
              "count   569.000000        569.000000         569.000000       569.000000   \n",
              "mean    880.583128          0.132369           0.254265         0.272188   \n",
              "std     569.356993          0.022832           0.157336         0.208624   \n",
              "min     185.200000          0.071170           0.027290         0.000000   \n",
              "25%     515.300000          0.116600           0.147200         0.114500   \n",
              "50%     686.500000          0.131300           0.211900         0.226700   \n",
              "75%    1084.000000          0.146000           0.339100         0.382900   \n",
              "max    4254.000000          0.222600           1.058000         1.252000   \n",
              "\n",
              "       concave points_worst  symmetry_worst  fractal_dimension_worst  \n",
              "count            569.000000      569.000000               569.000000  \n",
              "mean               0.114606        0.290076                 0.083946  \n",
              "std                0.065732        0.061867                 0.018061  \n",
              "min                0.000000        0.156500                 0.055040  \n",
              "25%                0.064930        0.250400                 0.071460  \n",
              "50%                0.099930        0.282200                 0.080040  \n",
              "75%                0.161400        0.317900                 0.092080  \n",
              "max                0.291000        0.663800                 0.207500  \n",
              "\n",
              "[8 rows x 31 columns]"
            ],
            "text/html": [
              "\n",
              "  <div id=\"df-1e24b635-33bb-4f17-9d31-504a0d2f4638\">\n",
              "    <div class=\"colab-df-container\">\n",
              "      <div>\n",
              "<style scoped>\n",
              "    .dataframe tbody tr th:only-of-type {\n",
              "        vertical-align: middle;\n",
              "    }\n",
              "\n",
              "    .dataframe tbody tr th {\n",
              "        vertical-align: top;\n",
              "    }\n",
              "\n",
              "    .dataframe thead th {\n",
              "        text-align: right;\n",
              "    }\n",
              "</style>\n",
              "<table border=\"1\" class=\"dataframe\">\n",
              "  <thead>\n",
              "    <tr style=\"text-align: right;\">\n",
              "      <th></th>\n",
              "      <th>id</th>\n",
              "      <th>radius_mean</th>\n",
              "      <th>texture_mean</th>\n",
              "      <th>perimeter_mean</th>\n",
              "      <th>area_mean</th>\n",
              "      <th>smoothness_mean</th>\n",
              "      <th>compactness_mean</th>\n",
              "      <th>concavity_mean</th>\n",
              "      <th>concave points_mean</th>\n",
              "      <th>symmetry_mean</th>\n",
              "      <th>...</th>\n",
              "      <th>radius_worst</th>\n",
              "      <th>texture_worst</th>\n",
              "      <th>perimeter_worst</th>\n",
              "      <th>area_worst</th>\n",
              "      <th>smoothness_worst</th>\n",
              "      <th>compactness_worst</th>\n",
              "      <th>concavity_worst</th>\n",
              "      <th>concave points_worst</th>\n",
              "      <th>symmetry_worst</th>\n",
              "      <th>fractal_dimension_worst</th>\n",
              "    </tr>\n",
              "  </thead>\n",
              "  <tbody>\n",
              "    <tr>\n",
              "      <th>count</th>\n",
              "      <td>5.690000e+02</td>\n",
              "      <td>569.000000</td>\n",
              "      <td>569.000000</td>\n",
              "      <td>569.000000</td>\n",
              "      <td>569.000000</td>\n",
              "      <td>569.000000</td>\n",
              "      <td>569.000000</td>\n",
              "      <td>569.000000</td>\n",
              "      <td>569.000000</td>\n",
              "      <td>569.000000</td>\n",
              "      <td>...</td>\n",
              "      <td>569.000000</td>\n",
              "      <td>569.000000</td>\n",
              "      <td>569.000000</td>\n",
              "      <td>569.000000</td>\n",
              "      <td>569.000000</td>\n",
              "      <td>569.000000</td>\n",
              "      <td>569.000000</td>\n",
              "      <td>569.000000</td>\n",
              "      <td>569.000000</td>\n",
              "      <td>569.000000</td>\n",
              "    </tr>\n",
              "    <tr>\n",
              "      <th>mean</th>\n",
              "      <td>3.037183e+07</td>\n",
              "      <td>14.127292</td>\n",
              "      <td>19.289649</td>\n",
              "      <td>91.969033</td>\n",
              "      <td>654.889104</td>\n",
              "      <td>0.096360</td>\n",
              "      <td>0.104341</td>\n",
              "      <td>0.088799</td>\n",
              "      <td>0.048919</td>\n",
              "      <td>0.181162</td>\n",
              "      <td>...</td>\n",
              "      <td>16.269190</td>\n",
              "      <td>25.677223</td>\n",
              "      <td>107.261213</td>\n",
              "      <td>880.583128</td>\n",
              "      <td>0.132369</td>\n",
              "      <td>0.254265</td>\n",
              "      <td>0.272188</td>\n",
              "      <td>0.114606</td>\n",
              "      <td>0.290076</td>\n",
              "      <td>0.083946</td>\n",
              "    </tr>\n",
              "    <tr>\n",
              "      <th>std</th>\n",
              "      <td>1.250206e+08</td>\n",
              "      <td>3.524049</td>\n",
              "      <td>4.301036</td>\n",
              "      <td>24.298981</td>\n",
              "      <td>351.914129</td>\n",
              "      <td>0.014064</td>\n",
              "      <td>0.052813</td>\n",
              "      <td>0.079720</td>\n",
              "      <td>0.038803</td>\n",
              "      <td>0.027414</td>\n",
              "      <td>...</td>\n",
              "      <td>4.833242</td>\n",
              "      <td>6.146258</td>\n",
              "      <td>33.602542</td>\n",
              "      <td>569.356993</td>\n",
              "      <td>0.022832</td>\n",
              "      <td>0.157336</td>\n",
              "      <td>0.208624</td>\n",
              "      <td>0.065732</td>\n",
              "      <td>0.061867</td>\n",
              "      <td>0.018061</td>\n",
              "    </tr>\n",
              "    <tr>\n",
              "      <th>min</th>\n",
              "      <td>8.670000e+03</td>\n",
              "      <td>6.981000</td>\n",
              "      <td>9.710000</td>\n",
              "      <td>43.790000</td>\n",
              "      <td>143.500000</td>\n",
              "      <td>0.052630</td>\n",
              "      <td>0.019380</td>\n",
              "      <td>0.000000</td>\n",
              "      <td>0.000000</td>\n",
              "      <td>0.106000</td>\n",
              "      <td>...</td>\n",
              "      <td>7.930000</td>\n",
              "      <td>12.020000</td>\n",
              "      <td>50.410000</td>\n",
              "      <td>185.200000</td>\n",
              "      <td>0.071170</td>\n",
              "      <td>0.027290</td>\n",
              "      <td>0.000000</td>\n",
              "      <td>0.000000</td>\n",
              "      <td>0.156500</td>\n",
              "      <td>0.055040</td>\n",
              "    </tr>\n",
              "    <tr>\n",
              "      <th>25%</th>\n",
              "      <td>8.692180e+05</td>\n",
              "      <td>11.700000</td>\n",
              "      <td>16.170000</td>\n",
              "      <td>75.170000</td>\n",
              "      <td>420.300000</td>\n",
              "      <td>0.086370</td>\n",
              "      <td>0.064920</td>\n",
              "      <td>0.029560</td>\n",
              "      <td>0.020310</td>\n",
              "      <td>0.161900</td>\n",
              "      <td>...</td>\n",
              "      <td>13.010000</td>\n",
              "      <td>21.080000</td>\n",
              "      <td>84.110000</td>\n",
              "      <td>515.300000</td>\n",
              "      <td>0.116600</td>\n",
              "      <td>0.147200</td>\n",
              "      <td>0.114500</td>\n",
              "      <td>0.064930</td>\n",
              "      <td>0.250400</td>\n",
              "      <td>0.071460</td>\n",
              "    </tr>\n",
              "    <tr>\n",
              "      <th>50%</th>\n",
              "      <td>9.060240e+05</td>\n",
              "      <td>13.370000</td>\n",
              "      <td>18.840000</td>\n",
              "      <td>86.240000</td>\n",
              "      <td>551.100000</td>\n",
              "      <td>0.095870</td>\n",
              "      <td>0.092630</td>\n",
              "      <td>0.061540</td>\n",
              "      <td>0.033500</td>\n",
              "      <td>0.179200</td>\n",
              "      <td>...</td>\n",
              "      <td>14.970000</td>\n",
              "      <td>25.410000</td>\n",
              "      <td>97.660000</td>\n",
              "      <td>686.500000</td>\n",
              "      <td>0.131300</td>\n",
              "      <td>0.211900</td>\n",
              "      <td>0.226700</td>\n",
              "      <td>0.099930</td>\n",
              "      <td>0.282200</td>\n",
              "      <td>0.080040</td>\n",
              "    </tr>\n",
              "    <tr>\n",
              "      <th>75%</th>\n",
              "      <td>8.813129e+06</td>\n",
              "      <td>15.780000</td>\n",
              "      <td>21.800000</td>\n",
              "      <td>104.100000</td>\n",
              "      <td>782.700000</td>\n",
              "      <td>0.105300</td>\n",
              "      <td>0.130400</td>\n",
              "      <td>0.130700</td>\n",
              "      <td>0.074000</td>\n",
              "      <td>0.195700</td>\n",
              "      <td>...</td>\n",
              "      <td>18.790000</td>\n",
              "      <td>29.720000</td>\n",
              "      <td>125.400000</td>\n",
              "      <td>1084.000000</td>\n",
              "      <td>0.146000</td>\n",
              "      <td>0.339100</td>\n",
              "      <td>0.382900</td>\n",
              "      <td>0.161400</td>\n",
              "      <td>0.317900</td>\n",
              "      <td>0.092080</td>\n",
              "    </tr>\n",
              "    <tr>\n",
              "      <th>max</th>\n",
              "      <td>9.113205e+08</td>\n",
              "      <td>28.110000</td>\n",
              "      <td>39.280000</td>\n",
              "      <td>188.500000</td>\n",
              "      <td>2501.000000</td>\n",
              "      <td>0.163400</td>\n",
              "      <td>0.345400</td>\n",
              "      <td>0.426800</td>\n",
              "      <td>0.201200</td>\n",
              "      <td>0.304000</td>\n",
              "      <td>...</td>\n",
              "      <td>36.040000</td>\n",
              "      <td>49.540000</td>\n",
              "      <td>251.200000</td>\n",
              "      <td>4254.000000</td>\n",
              "      <td>0.222600</td>\n",
              "      <td>1.058000</td>\n",
              "      <td>1.252000</td>\n",
              "      <td>0.291000</td>\n",
              "      <td>0.663800</td>\n",
              "      <td>0.207500</td>\n",
              "    </tr>\n",
              "  </tbody>\n",
              "</table>\n",
              "<p>8 rows × 31 columns</p>\n",
              "</div>\n",
              "      <button class=\"colab-df-convert\" onclick=\"convertToInteractive('df-1e24b635-33bb-4f17-9d31-504a0d2f4638')\"\n",
              "              title=\"Convert this dataframe to an interactive table.\"\n",
              "              style=\"display:none;\">\n",
              "        \n",
              "  <svg xmlns=\"http://www.w3.org/2000/svg\" height=\"24px\"viewBox=\"0 0 24 24\"\n",
              "       width=\"24px\">\n",
              "    <path d=\"M0 0h24v24H0V0z\" fill=\"none\"/>\n",
              "    <path d=\"M18.56 5.44l.94 2.06.94-2.06 2.06-.94-2.06-.94-.94-2.06-.94 2.06-2.06.94zm-11 1L8.5 8.5l.94-2.06 2.06-.94-2.06-.94L8.5 2.5l-.94 2.06-2.06.94zm10 10l.94 2.06.94-2.06 2.06-.94-2.06-.94-.94-2.06-.94 2.06-2.06.94z\"/><path d=\"M17.41 7.96l-1.37-1.37c-.4-.4-.92-.59-1.43-.59-.52 0-1.04.2-1.43.59L10.3 9.45l-7.72 7.72c-.78.78-.78 2.05 0 2.83L4 21.41c.39.39.9.59 1.41.59.51 0 1.02-.2 1.41-.59l7.78-7.78 2.81-2.81c.8-.78.8-2.07 0-2.86zM5.41 20L4 18.59l7.72-7.72 1.47 1.35L5.41 20z\"/>\n",
              "  </svg>\n",
              "      </button>\n",
              "      \n",
              "  <style>\n",
              "    .colab-df-container {\n",
              "      display:flex;\n",
              "      flex-wrap:wrap;\n",
              "      gap: 12px;\n",
              "    }\n",
              "\n",
              "    .colab-df-convert {\n",
              "      background-color: #E8F0FE;\n",
              "      border: none;\n",
              "      border-radius: 50%;\n",
              "      cursor: pointer;\n",
              "      display: none;\n",
              "      fill: #1967D2;\n",
              "      height: 32px;\n",
              "      padding: 0 0 0 0;\n",
              "      width: 32px;\n",
              "    }\n",
              "\n",
              "    .colab-df-convert:hover {\n",
              "      background-color: #E2EBFA;\n",
              "      box-shadow: 0px 1px 2px rgba(60, 64, 67, 0.3), 0px 1px 3px 1px rgba(60, 64, 67, 0.15);\n",
              "      fill: #174EA6;\n",
              "    }\n",
              "\n",
              "    [theme=dark] .colab-df-convert {\n",
              "      background-color: #3B4455;\n",
              "      fill: #D2E3FC;\n",
              "    }\n",
              "\n",
              "    [theme=dark] .colab-df-convert:hover {\n",
              "      background-color: #434B5C;\n",
              "      box-shadow: 0px 1px 3px 1px rgba(0, 0, 0, 0.15);\n",
              "      filter: drop-shadow(0px 1px 2px rgba(0, 0, 0, 0.3));\n",
              "      fill: #FFFFFF;\n",
              "    }\n",
              "  </style>\n",
              "\n",
              "      <script>\n",
              "        const buttonEl =\n",
              "          document.querySelector('#df-1e24b635-33bb-4f17-9d31-504a0d2f4638 button.colab-df-convert');\n",
              "        buttonEl.style.display =\n",
              "          google.colab.kernel.accessAllowed ? 'block' : 'none';\n",
              "\n",
              "        async function convertToInteractive(key) {\n",
              "          const element = document.querySelector('#df-1e24b635-33bb-4f17-9d31-504a0d2f4638');\n",
              "          const dataTable =\n",
              "            await google.colab.kernel.invokeFunction('convertToInteractive',\n",
              "                                                     [key], {});\n",
              "          if (!dataTable) return;\n",
              "\n",
              "          const docLinkHtml = 'Like what you see? Visit the ' +\n",
              "            '<a target=\"_blank\" href=https://colab.research.google.com/notebooks/data_table.ipynb>data table notebook</a>'\n",
              "            + ' to learn more about interactive tables.';\n",
              "          element.innerHTML = '';\n",
              "          dataTable['output_type'] = 'display_data';\n",
              "          await google.colab.output.renderOutput(dataTable, element);\n",
              "          const docLink = document.createElement('div');\n",
              "          docLink.innerHTML = docLinkHtml;\n",
              "          element.appendChild(docLink);\n",
              "        }\n",
              "      </script>\n",
              "    </div>\n",
              "  </div>\n",
              "  "
            ]
          },
          "metadata": {},
          "execution_count": 11
        }
      ],
      "source": [
        "# describe\n",
        "df.describe()"
      ]
    },
    {
      "cell_type": "code",
      "execution_count": 12,
      "metadata": {
        "colab": {
          "base_uri": "https://localhost:8080/"
        },
        "id": "XI48MN7KysUM",
        "outputId": "b661d378-59cb-4986-b11e-082a97a3eb25"
      },
      "outputs": [
        {
          "output_type": "execute_result",
          "data": {
            "text/plain": [
              "B    357\n",
              "M    212\n",
              "Name: diagnosis, dtype: int64"
            ]
          },
          "metadata": {},
          "execution_count": 12
        }
      ],
      "source": [
        "# Get the count of Diagnosis (M = malignant, B = benign)\n",
        "df['diagnosis'].value_counts()"
      ]
    },
    {
      "cell_type": "code",
      "execution_count": 13,
      "metadata": {
        "colab": {
          "base_uri": "https://localhost:8080/",
          "height": 296
        },
        "id": "x4wy-QlBysUN",
        "outputId": "99fb5add-41c9-4ccb-ded8-3149508df54e"
      },
      "outputs": [
        {
          "output_type": "execute_result",
          "data": {
            "text/plain": [
              "<matplotlib.axes._subplots.AxesSubplot at 0x7f38b473a350>"
            ]
          },
          "metadata": {},
          "execution_count": 13
        },
        {
          "output_type": "display_data",
          "data": {
            "text/plain": [
              "<Figure size 432x288 with 1 Axes>"
            ],
            "image/png": "[encoded data removed]"
          },
          "metadata": {
            "needs_background": "light"
          }
        }
      ],
      "source": [
        "# Visualize the count\n",
        "sns.countplot(df['diagnosis'], label='count')"
      ]
    },
    {
      "cell_type": "code",
      "execution_count": 14,
      "metadata": {
        "colab": {
          "base_uri": "https://localhost:8080/"
        },
        "id": "1MvpKX5sysUN",
        "outputId": "9192b3d0-f8da-46a8-ae26-07eff1e5b74f"
      },
      "outputs": [
        {
          "output_type": "execute_result",
          "data": {
            "text/plain": [
              "id                           int64\n",
              "diagnosis                   object\n",
              "radius_mean                float64\n",
              "texture_mean               float64\n",
              "perimeter_mean             float64\n",
              "area_mean                  float64\n",
              "smoothness_mean            float64\n",
              "compactness_mean           float64\n",
              "concavity_mean             float64\n",
              "concave points_mean        float64\n",
              "symmetry_mean              float64\n",
              "fractal_dimension_mean     float64\n",
              "radius_se                  float64\n",
              "texture_se                 float64\n",
              "perimeter_se               float64\n",
              "area_se                    float64\n",
              "smoothness_se              float64\n",
              "compactness_se             float64\n",
              "concavity_se               float64\n",
              "concave points_se          float64\n",
              "symmetry_se                float64\n",
              "fractal_dimension_se       float64\n",
              "radius_worst               float64\n",
              "texture_worst              float64\n",
              "perimeter_worst            float64\n",
              "area_worst                 float64\n",
              "smoothness_worst           float64\n",
              "compactness_worst          float64\n",
              "concavity_worst            float64\n",
              "concave points_worst       float64\n",
              "symmetry_worst             float64\n",
              "fractal_dimension_worst    float64\n",
              "dtype: object"
            ]
          },
          "metadata": {},
          "execution_count": 14
        }
      ],
      "source": [
        "# Look at the data type to see which columns need to be encoded\n",
        "\n",
        "df.dtypes\n"
      ]
    },
    {
      "cell_type": "code",
      "execution_count": 15,
      "metadata": {
        "colab": {
          "base_uri": "https://localhost:8080/"
        },
        "id": "fkrYYmEzysUO",
        "outputId": "8ddf30ea-becf-4c8b-cc02-edfcc03ff821"
      },
      "outputs": [
        {
          "output_type": "execute_result",
          "data": {
            "text/plain": [
              "array(['M', 'M', 'M', 'M', 'M', 'M', 'M', 'M', 'M', 'M', 'M', 'M', 'M',\n",
              "       'M', 'M', 'M', 'M', 'M', 'M', 'B', 'B', 'B', 'M', 'M', 'M', 'M',\n",
              "       'M', 'M', 'M', 'M', 'M', 'M', 'M', 'M', 'M', 'M', 'M', 'B', 'M',\n",
              "       'M', 'M', 'M', 'M', 'M', 'M', 'M', 'B', 'M', 'B', 'B', 'B', 'B',\n",
              "       'B', 'M', 'M', 'B', 'M', 'M', 'B', 'B', 'B', 'B', 'M', 'B', 'M',\n",
              "       'M', 'B', 'B', 'B', 'B', 'M', 'B', 'M', 'M', 'B', 'M', 'B', 'M',\n",
              "       'M', 'B', 'B', 'B', 'M', 'M', 'B', 'M', 'M', 'M', 'B', 'B', 'B',\n",
              "       'M', 'B', 'B', 'M', 'M', 'B', 'B', 'B', 'M', 'M', 'B', 'B', 'B',\n",
              "       'B', 'M', 'B', 'B', 'M', 'B', 'B', 'B', 'B', 'B', 'B', 'B', 'B',\n",
              "       'M', 'M', 'M', 'B', 'M', 'M', 'B', 'B', 'B', 'M', 'M', 'B', 'M',\n",
              "       'B', 'M', 'M', 'B', 'M', 'M', 'B', 'B', 'M', 'B', 'B', 'M', 'B',\n",
              "       'B', 'B', 'B', 'M', 'B', 'B', 'B', 'B', 'B', 'B', 'B', 'B', 'B',\n",
              "       'M', 'B', 'B', 'B', 'B', 'M', 'M', 'B', 'M', 'B', 'B', 'M', 'M',\n",
              "       'B', 'B', 'M', 'M', 'B', 'B', 'B', 'B', 'M', 'B', 'B', 'M', 'M',\n",
              "       'M', 'B', 'M', 'B', 'M', 'B', 'B', 'B', 'M', 'B', 'B', 'M', 'M',\n",
              "       'B', 'M', 'M', 'M', 'M', 'B', 'M', 'M', 'M', 'B', 'M', 'B', 'M',\n",
              "       'B', 'B', 'M', 'B', 'M', 'M', 'M', 'M', 'B', 'B', 'M', 'M', 'B',\n",
              "       'B', 'B', 'M', 'B', 'B', 'B', 'B', 'B', 'M', 'M', 'B', 'B', 'M',\n",
              "       'B', 'B', 'M', 'M', 'B', 'M', 'B', 'B', 'B', 'B', 'M', 'B', 'B',\n",
              "       'B', 'B', 'B', 'M', 'B', 'M', 'M', 'M', 'M', 'M', 'M', 'M', 'M',\n",
              "       'M', 'M', 'M', 'M', 'M', 'M', 'B', 'B', 'B', 'B', 'B', 'B', 'M',\n",
              "       'B', 'M', 'B', 'B', 'M', 'B', 'B', 'M', 'B', 'M', 'M', 'B', 'B',\n",
              "       'B', 'B', 'B', 'B', 'B', 'B', 'B', 'B', 'B', 'B', 'B', 'M', 'B',\n",
              "       'B', 'M', 'B', 'M', 'B', 'B', 'B', 'B', 'B', 'B', 'B', 'B', 'B',\n",
              "       'B', 'B', 'B', 'B', 'B', 'M', 'B', 'B', 'B', 'M', 'B', 'M', 'B',\n",
              "       'B', 'B', 'B', 'M', 'M', 'M', 'B', 'B', 'B', 'B', 'M', 'B', 'M',\n",
              "       'B', 'M', 'B', 'B', 'B', 'M', 'B', 'B', 'B', 'B', 'B', 'B', 'B',\n",
              "       'M', 'M', 'M', 'B', 'B', 'B', 'B', 'B', 'B', 'B', 'B', 'B', 'B',\n",
              "       'B', 'M', 'M', 'B', 'M', 'M', 'M', 'B', 'M', 'M', 'B', 'B', 'B',\n",
              "       'B', 'B', 'M', 'B', 'B', 'B', 'B', 'B', 'M', 'B', 'B', 'B', 'M',\n",
              "       'B', 'B', 'M', 'M', 'B', 'B', 'B', 'B', 'B', 'B', 'M', 'B', 'B',\n",
              "       'B', 'B', 'B', 'B', 'B', 'M', 'B', 'B', 'B', 'B', 'B', 'M', 'B',\n",
              "       'B', 'M', 'B', 'B', 'B', 'B', 'B', 'B', 'B', 'B', 'B', 'B', 'B',\n",
              "       'B', 'M', 'B', 'M', 'M', 'B', 'M', 'B', 'B', 'B', 'B', 'B', 'M',\n",
              "       'B', 'B', 'M', 'B', 'M', 'B', 'B', 'M', 'B', 'M', 'B', 'B', 'B',\n",
              "       'B', 'B', 'B', 'B', 'B', 'M', 'M', 'B', 'B', 'B', 'B', 'B', 'B',\n",
              "       'M', 'B', 'B', 'B', 'B', 'B', 'B', 'B', 'B', 'B', 'B', 'M', 'B',\n",
              "       'B', 'B', 'B', 'B', 'B', 'B', 'M', 'B', 'M', 'B', 'B', 'M', 'B',\n",
              "       'B', 'B', 'B', 'B', 'M', 'M', 'B', 'M', 'B', 'M', 'B', 'B', 'B',\n",
              "       'B', 'B', 'M', 'B', 'B', 'M', 'B', 'M', 'B', 'M', 'M', 'B', 'B',\n",
              "       'B', 'M', 'B', 'B', 'B', 'B', 'B', 'B', 'B', 'B', 'B', 'B', 'B',\n",
              "       'M', 'B', 'M', 'M', 'B', 'B', 'B', 'B', 'B', 'B', 'B', 'B', 'B',\n",
              "       'B', 'B', 'B', 'B', 'B', 'B', 'B', 'B', 'B', 'B', 'B', 'B', 'B',\n",
              "       'B', 'B', 'B', 'M', 'M', 'M', 'M', 'M', 'M', 'B'], dtype=object)"
            ]
          },
          "metadata": {},
          "execution_count": 15
        }
      ],
      "source": [
        "# Encode the categorical data values\n",
        "from sklearn.preprocessing import LabelEncoder\n",
        "labelencoder_Y = LabelEncoder()\n",
        "labelencoder_Y.fit_transform(df.iloc[:,1].values)\n",
        "df.iloc[:,1].values\n"
      ]
    },
    {
      "cell_type": "code",
      "execution_count": 16,
      "metadata": {
        "colab": {
          "base_uri": "https://localhost:8080/"
        },
        "id": "TLpy_qneysUO",
        "outputId": "ffb7e4a6-443a-444f-8810-19eb7e93434e"
      },
      "outputs": [
        {
          "output_type": "execute_result",
          "data": {
            "text/plain": [
              "array([1, 1, 1, 1, 1, 1, 1, 1, 1, 1, 1, 1, 1, 1, 1, 1, 1, 1, 1, 0, 0, 0,\n",
              "       1, 1, 1, 1, 1, 1, 1, 1, 1, 1, 1, 1, 1, 1, 1, 0, 1, 1, 1, 1, 1, 1,\n",
              "       1, 1, 0, 1, 0, 0, 0, 0, 0, 1, 1, 0, 1, 1, 0, 0, 0, 0, 1, 0, 1, 1,\n",
              "       0, 0, 0, 0, 1, 0, 1, 1, 0, 1, 0, 1, 1, 0, 0, 0, 1, 1, 0, 1, 1, 1,\n",
              "       0, 0, 0, 1, 0, 0, 1, 1, 0, 0, 0, 1, 1, 0, 0, 0, 0, 1, 0, 0, 1, 0,\n",
              "       0, 0, 0, 0, 0, 0, 0, 1, 1, 1, 0, 1, 1, 0, 0, 0, 1, 1, 0, 1, 0, 1,\n",
              "       1, 0, 1, 1, 0, 0, 1, 0, 0, 1, 0, 0, 0, 0, 1, 0, 0, 0, 0, 0, 0, 0,\n",
              "       0, 0, 1, 0, 0, 0, 0, 1, 1, 0, 1, 0, 0, 1, 1, 0, 0, 1, 1, 0, 0, 0,\n",
              "       0, 1, 0, 0, 1, 1, 1, 0, 1, 0, 1, 0, 0, 0, 1, 0, 0, 1, 1, 0, 1, 1,\n",
              "       1, 1, 0, 1, 1, 1, 0, 1, 0, 1, 0, 0, 1, 0, 1, 1, 1, 1, 0, 0, 1, 1,\n",
              "       0, 0, 0, 1, 0, 0, 0, 0, 0, 1, 1, 0, 0, 1, 0, 0, 1, 1, 0, 1, 0, 0,\n",
              "       0, 0, 1, 0, 0, 0, 0, 0, 1, 0, 1, 1, 1, 1, 1, 1, 1, 1, 1, 1, 1, 1,\n",
              "       1, 1, 0, 0, 0, 0, 0, 0, 1, 0, 1, 0, 0, 1, 0, 0, 1, 0, 1, 1, 0, 0,\n",
              "       0, 0, 0, 0, 0, 0, 0, 0, 0, 0, 0, 1, 0, 0, 1, 0, 1, 0, 0, 0, 0, 0,\n",
              "       0, 0, 0, 0, 0, 0, 0, 0, 0, 1, 0, 0, 0, 1, 0, 1, 0, 0, 0, 0, 1, 1,\n",
              "       1, 0, 0, 0, 0, 1, 0, 1, 0, 1, 0, 0, 0, 1, 0, 0, 0, 0, 0, 0, 0, 1,\n",
              "       1, 1, 0, 0, 0, 0, 0, 0, 0, 0, 0, 0, 0, 1, 1, 0, 1, 1, 1, 0, 1, 1,\n",
              "       0, 0, 0, 0, 0, 1, 0, 0, 0, 0, 0, 1, 0, 0, 0, 1, 0, 0, 1, 1, 0, 0,\n",
              "       0, 0, 0, 0, 1, 0, 0, 0, 0, 0, 0, 0, 1, 0, 0, 0, 0, 0, 1, 0, 0, 1,\n",
              "       0, 0, 0, 0, 0, 0, 0, 0, 0, 0, 0, 0, 1, 0, 1, 1, 0, 1, 0, 0, 0, 0,\n",
              "       0, 1, 0, 0, 1, 0, 1, 0, 0, 1, 0, 1, 0, 0, 0, 0, 0, 0, 0, 0, 1, 1,\n",
              "       0, 0, 0, 0, 0, 0, 1, 0, 0, 0, 0, 0, 0, 0, 0, 0, 0, 1, 0, 0, 0, 0,\n",
              "       0, 0, 0, 1, 0, 1, 0, 0, 1, 0, 0, 0, 0, 0, 1, 1, 0, 1, 0, 1, 0, 0,\n",
              "       0, 0, 0, 1, 0, 0, 1, 0, 1, 0, 1, 1, 0, 0, 0, 1, 0, 0, 0, 0, 0, 0,\n",
              "       0, 0, 0, 0, 0, 1, 0, 1, 1, 0, 0, 0, 0, 0, 0, 0, 0, 0, 0, 0, 0, 0,\n",
              "       0, 0, 0, 0, 0, 0, 0, 0, 0, 0, 0, 0, 1, 1, 1, 1, 1, 1, 0])"
            ]
          },
          "metadata": {},
          "execution_count": 16
        }
      ],
      "source": [
        "# Encode the categorical data values (in array format)\n",
        "from sklearn.preprocessing import LabelEncoder\n",
        "labelencoder_Y = LabelEncoder()\n",
        "labelencoder_Y.fit_transform(df.iloc[:,1].values)\n"
      ]
    },
    {
      "cell_type": "code",
      "execution_count": 17,
      "metadata": {
        "colab": {
          "base_uri": "https://localhost:8080/"
        },
        "id": "SNYq_e-hysUP",
        "outputId": "1b9e1ddc-5936-4740-b42e-e708b3075973"
      },
      "outputs": [
        {
          "output_type": "execute_result",
          "data": {
            "text/plain": [
              "0      1\n",
              "1      1\n",
              "2      1\n",
              "3      1\n",
              "4      1\n",
              "      ..\n",
              "564    1\n",
              "565    1\n",
              "566    1\n",
              "567    1\n",
              "568    0\n",
              "Name: diagnosis, Length: 569, dtype: int64"
            ]
          },
          "metadata": {},
          "execution_count": 17
        }
      ],
      "source": [
        "# Encode the categorical data values\n",
        "from sklearn.preprocessing import LabelEncoder\n",
        "labelencoder_Y = LabelEncoder()\n",
        "df.iloc[:,1] = labelencoder_Y.fit_transform(df.iloc[:,1].values)\n",
        "\n",
        "df.iloc[:,1]"
      ]
    },
    {
      "cell_type": "code",
      "execution_count": 18,
      "metadata": {
        "colab": {
          "base_uri": "https://localhost:8080/",
          "height": 920
        },
        "id": "dg1Xol4jysUP",
        "outputId": "5bed19a1-35a0-4eea-df31-901db93df54a"
      },
      "outputs": [
        {
          "output_type": "execute_result",
          "data": {
            "text/plain": [
              "<seaborn.axisgrid.PairGrid at 0x7f38b41c5a10>"
            ]
          },
          "metadata": {},
          "execution_count": 18
        },
        {
          "output_type": "display_data",
          "data": {
            "text/plain": [
              "<Figure size 900x900 with 30 Axes>"
            ],
            "image/png": "[encoded data removed]"
          },
          "metadata": {
            "needs_background": "light"
          }
        }
      ],
      "source": [
        "# create a pair plot (Pair plot-Multivariate)\n",
        "sns.pairplot(df.iloc[:,1:6])"
      ]
    },
    {
      "cell_type": "code",
      "execution_count": 19,
      "metadata": {
        "colab": {
          "base_uri": "https://localhost:8080/",
          "height": 567
        },
        "id": "Ps0FQjYgysUQ",
        "outputId": "2eb44c2d-fd0a-483b-e118-ad4e3d192125"
      },
      "outputs": [
        {
          "output_type": "execute_result",
          "data": {
            "text/plain": [
              "<seaborn.axisgrid.PairGrid at 0x7f38b1099390>"
            ]
          },
          "metadata": {},
          "execution_count": 19
        },
        {
          "output_type": "display_data",
          "data": {
            "text/plain": [
              "<Figure size 595.5x540 with 12 Axes>"
            ],
            "image/png": "[encoded data removed]"
          },
          "metadata": {
            "needs_background": "light"
          }
        }
      ],
      "source": [
        "# create a pair plot\n",
        "sns.pairplot(df.iloc[:,1:5], hue='diagnosis', diag_kind=\"hist\")\n"
      ]
    },
    {
      "cell_type": "code",
      "execution_count": 20,
      "metadata": {
        "colab": {
          "base_uri": "https://localhost:8080/",
          "height": 317
        },
        "id": "5ho6JDKOysUQ",
        "outputId": "4f38e0e1-265e-4bb9-d150-1b60e5e68b6a"
      },
      "outputs": [
        {
          "output_type": "execute_result",
          "data": {
            "text/plain": [
              "         id  diagnosis  radius_mean  texture_mean  perimeter_mean  area_mean  \\\n",
              "0    842302          1        17.99         10.38          122.80     1001.0   \n",
              "1    842517          1        20.57         17.77          132.90     1326.0   \n",
              "2  84300903          1        19.69         21.25          130.00     1203.0   \n",
              "3  84348301          1        11.42         20.38           77.58      386.1   \n",
              "4  84358402          1        20.29         14.34          135.10     1297.0   \n",
              "\n",
              "   smoothness_mean  compactness_mean  concavity_mean  concave points_mean  \\\n",
              "0          0.11840           0.27760          0.3001              0.14710   \n",
              "1          0.08474           0.07864          0.0869              0.07017   \n",
              "2          0.10960           0.15990          0.1974              0.12790   \n",
              "3          0.14250           0.28390          0.2414              0.10520   \n",
              "4          0.10030           0.13280          0.1980              0.10430   \n",
              "\n",
              "   ...  radius_worst  texture_worst  perimeter_worst  area_worst  \\\n",
              "0  ...         25.38          17.33           184.60      2019.0   \n",
              "1  ...         24.99          23.41           158.80      1956.0   \n",
              "2  ...         23.57          25.53           152.50      1709.0   \n",
              "3  ...         14.91          26.50            98.87       567.7   \n",
              "4  ...         22.54          16.67           152.20      1575.0   \n",
              "\n",
              "   smoothness_worst  compactness_worst  concavity_worst  concave points_worst  \\\n",
              "0            0.1622             0.6656           0.7119                0.2654   \n",
              "1            0.1238             0.1866           0.2416                0.1860   \n",
              "2            0.1444             0.4245           0.4504                0.2430   \n",
              "3            0.2098             0.8663           0.6869                0.2575   \n",
              "4            0.1374             0.2050           0.4000                0.1625   \n",
              "\n",
              "   symmetry_worst  fractal_dimension_worst  \n",
              "0          0.4601                  0.11890  \n",
              "1          0.2750                  0.08902  \n",
              "2          0.3613                  0.08758  \n",
              "3          0.6638                  0.17300  \n",
              "4          0.2364                  0.07678  \n",
              "\n",
              "[5 rows x 32 columns]"
            ],
            "text/html": [
              "\n",
              "  <div id=\"df-9f57e78c-e04e-4379-aa87-b83fea51e4b5\">\n",
              "    <div class=\"colab-df-container\">\n",
              "      <div>\n",
              "<style scoped>\n",
              "    .dataframe tbody tr th:only-of-type {\n",
              "        vertical-align: middle;\n",
              "    }\n",
              "\n",
              "    .dataframe tbody tr th {\n",
              "        vertical-align: top;\n",
              "    }\n",
              "\n",
              "    .dataframe thead th {\n",
              "        text-align: right;\n",
              "    }\n",
              "</style>\n",
              "<table border=\"1\" class=\"dataframe\">\n",
              "  <thead>\n",
              "    <tr style=\"text-align: right;\">\n",
              "      <th></th>\n",
              "      <th>id</th>\n",
              "      <th>diagnosis</th>\n",
              "      <th>radius_mean</th>\n",
              "      <th>texture_mean</th>\n",
              "      <th>perimeter_mean</th>\n",
              "      <th>area_mean</th>\n",
              "      <th>smoothness_mean</th>\n",
              "      <th>compactness_mean</th>\n",
              "      <th>concavity_mean</th>\n",
              "      <th>concave points_mean</th>\n",
              "      <th>...</th>\n",
              "      <th>radius_worst</th>\n",
              "      <th>texture_worst</th>\n",
              "      <th>perimeter_worst</th>\n",
              "      <th>area_worst</th>\n",
              "      <th>smoothness_worst</th>\n",
              "      <th>compactness_worst</th>\n",
              "      <th>concavity_worst</th>\n",
              "      <th>concave points_worst</th>\n",
              "      <th>symmetry_worst</th>\n",
              "      <th>fractal_dimension_worst</th>\n",
              "    </tr>\n",
              "  </thead>\n",
              "  <tbody>\n",
              "    <tr>\n",
              "      <th>0</th>\n",
              "      <td>842302</td>\n",
              "      <td>1</td>\n",
              "      <td>17.99</td>\n",
              "      <td>10.38</td>\n",
              "      <td>122.80</td>\n",
              "      <td>1001.0</td>\n",
              "      <td>0.11840</td>\n",
              "      <td>0.27760</td>\n",
              "      <td>0.3001</td>\n",
              "      <td>0.14710</td>\n",
              "      <td>...</td>\n",
              "      <td>25.38</td>\n",
              "      <td>17.33</td>\n",
              "      <td>184.60</td>\n",
              "      <td>2019.0</td>\n",
              "      <td>0.1622</td>\n",
              "      <td>0.6656</td>\n",
              "      <td>0.7119</td>\n",
              "      <td>0.2654</td>\n",
              "      <td>0.4601</td>\n",
              "      <td>0.11890</td>\n",
              "    </tr>\n",
              "    <tr>\n",
              "      <th>1</th>\n",
              "      <td>842517</td>\n",
              "      <td>1</td>\n",
              "      <td>20.57</td>\n",
              "      <td>17.77</td>\n",
              "      <td>132.90</td>\n",
              "      <td>1326.0</td>\n",
              "      <td>0.08474</td>\n",
              "      <td>0.07864</td>\n",
              "      <td>0.0869</td>\n",
              "      <td>0.07017</td>\n",
              "      <td>...</td>\n",
              "      <td>24.99</td>\n",
              "      <td>23.41</td>\n",
              "      <td>158.80</td>\n",
              "      <td>1956.0</td>\n",
              "      <td>0.1238</td>\n",
              "      <td>0.1866</td>\n",
              "      <td>0.2416</td>\n",
              "      <td>0.1860</td>\n",
              "      <td>0.2750</td>\n",
              "      <td>0.08902</td>\n",
              "    </tr>\n",
              "    <tr>\n",
              "      <th>2</th>\n",
              "      <td>84300903</td>\n",
              "      <td>1</td>\n",
              "      <td>19.69</td>\n",
              "      <td>21.25</td>\n",
              "      <td>130.00</td>\n",
              "      <td>1203.0</td>\n",
              "      <td>0.10960</td>\n",
              "      <td>0.15990</td>\n",
              "      <td>0.1974</td>\n",
              "      <td>0.12790</td>\n",
              "      <td>...</td>\n",
              "      <td>23.57</td>\n",
              "      <td>25.53</td>\n",
              "      <td>152.50</td>\n",
              "      <td>1709.0</td>\n",
              "      <td>0.1444</td>\n",
              "      <td>0.4245</td>\n",
              "      <td>0.4504</td>\n",
              "      <td>0.2430</td>\n",
              "      <td>0.3613</td>\n",
              "      <td>0.08758</td>\n",
              "    </tr>\n",
              "    <tr>\n",
              "      <th>3</th>\n",
              "      <td>84348301</td>\n",
              "      <td>1</td>\n",
              "      <td>11.42</td>\n",
              "      <td>20.38</td>\n",
              "      <td>77.58</td>\n",
              "      <td>386.1</td>\n",
              "      <td>0.14250</td>\n",
              "      <td>0.28390</td>\n",
              "      <td>0.2414</td>\n",
              "      <td>0.10520</td>\n",
              "      <td>...</td>\n",
              "      <td>14.91</td>\n",
              "      <td>26.50</td>\n",
              "      <td>98.87</td>\n",
              "      <td>567.7</td>\n",
              "      <td>0.2098</td>\n",
              "      <td>0.8663</td>\n",
              "      <td>0.6869</td>\n",
              "      <td>0.2575</td>\n",
              "      <td>0.6638</td>\n",
              "      <td>0.17300</td>\n",
              "    </tr>\n",
              "    <tr>\n",
              "      <th>4</th>\n",
              "      <td>84358402</td>\n",
              "      <td>1</td>\n",
              "      <td>20.29</td>\n",
              "      <td>14.34</td>\n",
              "      <td>135.10</td>\n",
              "      <td>1297.0</td>\n",
              "      <td>0.10030</td>\n",
              "      <td>0.13280</td>\n",
              "      <td>0.1980</td>\n",
              "      <td>0.10430</td>\n",
              "      <td>...</td>\n",
              "      <td>22.54</td>\n",
              "      <td>16.67</td>\n",
              "      <td>152.20</td>\n",
              "      <td>1575.0</td>\n",
              "      <td>0.1374</td>\n",
              "      <td>0.2050</td>\n",
              "      <td>0.4000</td>\n",
              "      <td>0.1625</td>\n",
              "      <td>0.2364</td>\n",
              "      <td>0.07678</td>\n",
              "    </tr>\n",
              "  </tbody>\n",
              "</table>\n",
              "<p>5 rows × 32 columns</p>\n",
              "</div>\n",
              "      <button class=\"colab-df-convert\" onclick=\"convertToInteractive('df-9f57e78c-e04e-4379-aa87-b83fea51e4b5')\"\n",
              "              title=\"Convert this dataframe to an interactive table.\"\n",
              "              style=\"display:none;\">\n",
              "        \n",
              "  <svg xmlns=\"http://www.w3.org/2000/svg\" height=\"24px\"viewBox=\"0 0 24 24\"\n",
              "       width=\"24px\">\n",
              "    <path d=\"M0 0h24v24H0V0z\" fill=\"none\"/>\n",
              "    <path d=\"M18.56 5.44l.94 2.06.94-2.06 2.06-.94-2.06-.94-.94-2.06-.94 2.06-2.06.94zm-11 1L8.5 8.5l.94-2.06 2.06-.94-2.06-.94L8.5 2.5l-.94 2.06-2.06.94zm10 10l.94 2.06.94-2.06 2.06-.94-2.06-.94-.94-2.06-.94 2.06-2.06.94z\"/><path d=\"M17.41 7.96l-1.37-1.37c-.4-.4-.92-.59-1.43-.59-.52 0-1.04.2-1.43.59L10.3 9.45l-7.72 7.72c-.78.78-.78 2.05 0 2.83L4 21.41c.39.39.9.59 1.41.59.51 0 1.02-.2 1.41-.59l7.78-7.78 2.81-2.81c.8-.78.8-2.07 0-2.86zM5.41 20L4 18.59l7.72-7.72 1.47 1.35L5.41 20z\"/>\n",
              "  </svg>\n",
              "      </button>\n",
              "      \n",
              "  <style>\n",
              "    .colab-df-container {\n",
              "      display:flex;\n",
              "      flex-wrap:wrap;\n",
              "      gap: 12px;\n",
              "    }\n",
              "\n",
              "    .colab-df-convert {\n",
              "      background-color: #E8F0FE;\n",
              "      border: none;\n",
              "      border-radius: 50%;\n",
              "      cursor: pointer;\n",
              "      display: none;\n",
              "      fill: #1967D2;\n",
              "      height: 32px;\n",
              "      padding: 0 0 0 0;\n",
              "      width: 32px;\n",
              "    }\n",
              "\n",
              "    .colab-df-convert:hover {\n",
              "      background-color: #E2EBFA;\n",
              "      box-shadow: 0px 1px 2px rgba(60, 64, 67, 0.3), 0px 1px 3px 1px rgba(60, 64, 67, 0.15);\n",
              "      fill: #174EA6;\n",
              "    }\n",
              "\n",
              "    [theme=dark] .colab-df-convert {\n",
              "      background-color: #3B4455;\n",
              "      fill: #D2E3FC;\n",
              "    }\n",
              "\n",
              "    [theme=dark] .colab-df-convert:hover {\n",
              "      background-color: #434B5C;\n",
              "      box-shadow: 0px 1px 3px 1px rgba(0, 0, 0, 0.15);\n",
              "      filter: drop-shadow(0px 1px 2px rgba(0, 0, 0, 0.3));\n",
              "      fill: #FFFFFF;\n",
              "    }\n",
              "  </style>\n",
              "\n",
              "      <script>\n",
              "        const buttonEl =\n",
              "          document.querySelector('#df-9f57e78c-e04e-4379-aa87-b83fea51e4b5 button.colab-df-convert');\n",
              "        buttonEl.style.display =\n",
              "          google.colab.kernel.accessAllowed ? 'block' : 'none';\n",
              "\n",
              "        async function convertToInteractive(key) {\n",
              "          const element = document.querySelector('#df-9f57e78c-e04e-4379-aa87-b83fea51e4b5');\n",
              "          const dataTable =\n",
              "            await google.colab.kernel.invokeFunction('convertToInteractive',\n",
              "                                                     [key], {});\n",
              "          if (!dataTable) return;\n",
              "\n",
              "          const docLinkHtml = 'Like what you see? Visit the ' +\n",
              "            '<a target=\"_blank\" href=https://colab.research.google.com/notebooks/data_table.ipynb>data table notebook</a>'\n",
              "            + ' to learn more about interactive tables.';\n",
              "          element.innerHTML = '';\n",
              "          dataTable['output_type'] = 'display_data';\n",
              "          await google.colab.output.renderOutput(dataTable, element);\n",
              "          const docLink = document.createElement('div');\n",
              "          docLink.innerHTML = docLinkHtml;\n",
              "          element.appendChild(docLink);\n",
              "        }\n",
              "      </script>\n",
              "    </div>\n",
              "  </div>\n",
              "  "
            ]
          },
          "metadata": {},
          "execution_count": 20
        }
      ],
      "source": [
        "df.head()"
      ]
    },
    {
      "cell_type": "code",
      "execution_count": 21,
      "metadata": {
        "colab": {
          "base_uri": "https://localhost:8080/",
          "height": 476
        },
        "id": "1qYCcr28ysUQ",
        "outputId": "bdbbd141-ed3b-4532-a258-0723435a08f8"
      },
      "outputs": [
        {
          "output_type": "execute_result",
          "data": {
            "text/plain": [
              "                        diagnosis  radius_mean  texture_mean  perimeter_mean  \\\n",
              "diagnosis                1.000000     0.730029      0.415185        0.742636   \n",
              "radius_mean              0.730029     1.000000      0.323782        0.997855   \n",
              "texture_mean             0.415185     0.323782      1.000000        0.329533   \n",
              "perimeter_mean           0.742636     0.997855      0.329533        1.000000   \n",
              "area_mean                0.708984     0.987357      0.321086        0.986507   \n",
              "smoothness_mean          0.358560     0.170581     -0.023389        0.207278   \n",
              "compactness_mean         0.596534     0.506124      0.236702        0.556936   \n",
              "concavity_mean           0.696360     0.676764      0.302418        0.716136   \n",
              "concave points_mean      0.776614     0.822529      0.293464        0.850977   \n",
              "symmetry_mean            0.330499     0.147741      0.071401        0.183027   \n",
              "fractal_dimension_mean  -0.012838    -0.311631     -0.076437       -0.261477   \n",
              "\n",
              "                        area_mean  smoothness_mean  compactness_mean  \\\n",
              "diagnosis                0.708984         0.358560          0.596534   \n",
              "radius_mean              0.987357         0.170581          0.506124   \n",
              "texture_mean             0.321086        -0.023389          0.236702   \n",
              "perimeter_mean           0.986507         0.207278          0.556936   \n",
              "area_mean                1.000000         0.177028          0.498502   \n",
              "smoothness_mean          0.177028         1.000000          0.659123   \n",
              "compactness_mean         0.498502         0.659123          1.000000   \n",
              "concavity_mean           0.685983         0.521984          0.883121   \n",
              "concave points_mean      0.823269         0.553695          0.831135   \n",
              "symmetry_mean            0.151293         0.557775          0.602641   \n",
              "fractal_dimension_mean  -0.283110         0.584792          0.565369   \n",
              "\n",
              "                        concavity_mean  concave points_mean  symmetry_mean  \\\n",
              "diagnosis                     0.696360             0.776614       0.330499   \n",
              "radius_mean                   0.676764             0.822529       0.147741   \n",
              "texture_mean                  0.302418             0.293464       0.071401   \n",
              "perimeter_mean                0.716136             0.850977       0.183027   \n",
              "area_mean                     0.685983             0.823269       0.151293   \n",
              "smoothness_mean               0.521984             0.553695       0.557775   \n",
              "compactness_mean              0.883121             0.831135       0.602641   \n",
              "concavity_mean                1.000000             0.921391       0.500667   \n",
              "concave points_mean           0.921391             1.000000       0.462497   \n",
              "symmetry_mean                 0.500667             0.462497       1.000000   \n",
              "fractal_dimension_mean        0.336783             0.166917       0.479921   \n",
              "\n",
              "                        fractal_dimension_mean  \n",
              "diagnosis                            -0.012838  \n",
              "radius_mean                          -0.311631  \n",
              "texture_mean                         -0.076437  \n",
              "perimeter_mean                       -0.261477  \n",
              "area_mean                            -0.283110  \n",
              "smoothness_mean                       0.584792  \n",
              "compactness_mean                      0.565369  \n",
              "concavity_mean                        0.336783  \n",
              "concave points_mean                   0.166917  \n",
              "symmetry_mean                         0.479921  \n",
              "fractal_dimension_mean                1.000000  "
            ],
            "text/html": [
              "\n",
              "  <div id=\"df-cf107aa8-2c4e-4abf-94b2-d04faa4c31e8\">\n",
              "    <div class=\"colab-df-container\">\n",
              "      <div>\n",
              "<style scoped>\n",
              "    .dataframe tbody tr th:only-of-type {\n",
              "        vertical-align: middle;\n",
              "    }\n",
              "\n",
              "    .dataframe tbody tr th {\n",
              "        vertical-align: top;\n",
              "    }\n",
              "\n",
              "    .dataframe thead th {\n",
              "        text-align: right;\n",
              "    }\n",
              "</style>\n",
              "<table border=\"1\" class=\"dataframe\">\n",
              "  <thead>\n",
              "    <tr style=\"text-align: right;\">\n",
              "      <th></th>\n",
              "      <th>diagnosis</th>\n",
              "      <th>radius_mean</th>\n",
              "      <th>texture_mean</th>\n",
              "      <th>perimeter_mean</th>\n",
              "      <th>area_mean</th>\n",
              "      <th>smoothness_mean</th>\n",
              "      <th>compactness_mean</th>\n",
              "      <th>concavity_mean</th>\n",
              "      <th>concave points_mean</th>\n",
              "      <th>symmetry_mean</th>\n",
              "      <th>fractal_dimension_mean</th>\n",
              "    </tr>\n",
              "  </thead>\n",
              "  <tbody>\n",
              "    <tr>\n",
              "      <th>diagnosis</th>\n",
              "      <td>1.000000</td>\n",
              "      <td>0.730029</td>\n",
              "      <td>0.415185</td>\n",
              "      <td>0.742636</td>\n",
              "      <td>0.708984</td>\n",
              "      <td>0.358560</td>\n",
              "      <td>0.596534</td>\n",
              "      <td>0.696360</td>\n",
              "      <td>0.776614</td>\n",
              "      <td>0.330499</td>\n",
              "      <td>-0.012838</td>\n",
              "    </tr>\n",
              "    <tr>\n",
              "      <th>radius_mean</th>\n",
              "      <td>0.730029</td>\n",
              "      <td>1.000000</td>\n",
              "      <td>0.323782</td>\n",
              "      <td>0.997855</td>\n",
              "      <td>0.987357</td>\n",
              "      <td>0.170581</td>\n",
              "      <td>0.506124</td>\n",
              "      <td>0.676764</td>\n",
              "      <td>0.822529</td>\n",
              "      <td>0.147741</td>\n",
              "      <td>-0.311631</td>\n",
              "    </tr>\n",
              "    <tr>\n",
              "      <th>texture_mean</th>\n",
              "      <td>0.415185</td>\n",
              "      <td>0.323782</td>\n",
              "      <td>1.000000</td>\n",
              "      <td>0.329533</td>\n",
              "      <td>0.321086</td>\n",
              "      <td>-0.023389</td>\n",
              "      <td>0.236702</td>\n",
              "      <td>0.302418</td>\n",
              "      <td>0.293464</td>\n",
              "      <td>0.071401</td>\n",
              "      <td>-0.076437</td>\n",
              "    </tr>\n",
              "    <tr>\n",
              "      <th>perimeter_mean</th>\n",
              "      <td>0.742636</td>\n",
              "      <td>0.997855</td>\n",
              "      <td>0.329533</td>\n",
              "      <td>1.000000</td>\n",
              "      <td>0.986507</td>\n",
              "      <td>0.207278</td>\n",
              "      <td>0.556936</td>\n",
              "      <td>0.716136</td>\n",
              "      <td>0.850977</td>\n",
              "      <td>0.183027</td>\n",
              "      <td>-0.261477</td>\n",
              "    </tr>\n",
              "    <tr>\n",
              "      <th>area_mean</th>\n",
              "      <td>0.708984</td>\n",
              "      <td>0.987357</td>\n",
              "      <td>0.321086</td>\n",
              "      <td>0.986507</td>\n",
              "      <td>1.000000</td>\n",
              "      <td>0.177028</td>\n",
              "      <td>0.498502</td>\n",
              "      <td>0.685983</td>\n",
              "      <td>0.823269</td>\n",
              "      <td>0.151293</td>\n",
              "      <td>-0.283110</td>\n",
              "    </tr>\n",
              "    <tr>\n",
              "      <th>smoothness_mean</th>\n",
              "      <td>0.358560</td>\n",
              "      <td>0.170581</td>\n",
              "      <td>-0.023389</td>\n",
              "      <td>0.207278</td>\n",
              "      <td>0.177028</td>\n",
              "      <td>1.000000</td>\n",
              "      <td>0.659123</td>\n",
              "      <td>0.521984</td>\n",
              "      <td>0.553695</td>\n",
              "      <td>0.557775</td>\n",
              "      <td>0.584792</td>\n",
              "    </tr>\n",
              "    <tr>\n",
              "      <th>compactness_mean</th>\n",
              "      <td>0.596534</td>\n",
              "      <td>0.506124</td>\n",
              "      <td>0.236702</td>\n",
              "      <td>0.556936</td>\n",
              "      <td>0.498502</td>\n",
              "      <td>0.659123</td>\n",
              "      <td>1.000000</td>\n",
              "      <td>0.883121</td>\n",
              "      <td>0.831135</td>\n",
              "      <td>0.602641</td>\n",
              "      <td>0.565369</td>\n",
              "    </tr>\n",
              "    <tr>\n",
              "      <th>concavity_mean</th>\n",
              "      <td>0.696360</td>\n",
              "      <td>0.676764</td>\n",
              "      <td>0.302418</td>\n",
              "      <td>0.716136</td>\n",
              "      <td>0.685983</td>\n",
              "      <td>0.521984</td>\n",
              "      <td>0.883121</td>\n",
              "      <td>1.000000</td>\n",
              "      <td>0.921391</td>\n",
              "      <td>0.500667</td>\n",
              "      <td>0.336783</td>\n",
              "    </tr>\n",
              "    <tr>\n",
              "      <th>concave points_mean</th>\n",
              "      <td>0.776614</td>\n",
              "      <td>0.822529</td>\n",
              "      <td>0.293464</td>\n",
              "      <td>0.850977</td>\n",
              "      <td>0.823269</td>\n",
              "      <td>0.553695</td>\n",
              "      <td>0.831135</td>\n",
              "      <td>0.921391</td>\n",
              "      <td>1.000000</td>\n",
              "      <td>0.462497</td>\n",
              "      <td>0.166917</td>\n",
              "    </tr>\n",
              "    <tr>\n",
              "      <th>symmetry_mean</th>\n",
              "      <td>0.330499</td>\n",
              "      <td>0.147741</td>\n",
              "      <td>0.071401</td>\n",
              "      <td>0.183027</td>\n",
              "      <td>0.151293</td>\n",
              "      <td>0.557775</td>\n",
              "      <td>0.602641</td>\n",
              "      <td>0.500667</td>\n",
              "      <td>0.462497</td>\n",
              "      <td>1.000000</td>\n",
              "      <td>0.479921</td>\n",
              "    </tr>\n",
              "    <tr>\n",
              "      <th>fractal_dimension_mean</th>\n",
              "      <td>-0.012838</td>\n",
              "      <td>-0.311631</td>\n",
              "      <td>-0.076437</td>\n",
              "      <td>-0.261477</td>\n",
              "      <td>-0.283110</td>\n",
              "      <td>0.584792</td>\n",
              "      <td>0.565369</td>\n",
              "      <td>0.336783</td>\n",
              "      <td>0.166917</td>\n",
              "      <td>0.479921</td>\n",
              "      <td>1.000000</td>\n",
              "    </tr>\n",
              "  </tbody>\n",
              "</table>\n",
              "</div>\n",
              "      <button class=\"colab-df-convert\" onclick=\"convertToInteractive('df-cf107aa8-2c4e-4abf-94b2-d04faa4c31e8')\"\n",
              "              title=\"Convert this dataframe to an interactive table.\"\n",
              "              style=\"display:none;\">\n",
              "        \n",
              "  <svg xmlns=\"http://www.w3.org/2000/svg\" height=\"24px\"viewBox=\"0 0 24 24\"\n",
              "       width=\"24px\">\n",
              "    <path d=\"M0 0h24v24H0V0z\" fill=\"none\"/>\n",
              "    <path d=\"M18.56 5.44l.94 2.06.94-2.06 2.06-.94-2.06-.94-.94-2.06-.94 2.06-2.06.94zm-11 1L8.5 8.5l.94-2.06 2.06-.94-2.06-.94L8.5 2.5l-.94 2.06-2.06.94zm10 10l.94 2.06.94-2.06 2.06-.94-2.06-.94-.94-2.06-.94 2.06-2.06.94z\"/><path d=\"M17.41 7.96l-1.37-1.37c-.4-.4-.92-.59-1.43-.59-.52 0-1.04.2-1.43.59L10.3 9.45l-7.72 7.72c-.78.78-.78 2.05 0 2.83L4 21.41c.39.39.9.59 1.41.59.51 0 1.02-.2 1.41-.59l7.78-7.78 2.81-2.81c.8-.78.8-2.07 0-2.86zM5.41 20L4 18.59l7.72-7.72 1.47 1.35L5.41 20z\"/>\n",
              "  </svg>\n",
              "      </button>\n",
              "      \n",
              "  <style>\n",
              "    .colab-df-container {\n",
              "      display:flex;\n",
              "      flex-wrap:wrap;\n",
              "      gap: 12px;\n",
              "    }\n",
              "\n",
              "    .colab-df-convert {\n",
              "      background-color: #E8F0FE;\n",
              "      border: none;\n",
              "      border-radius: 50%;\n",
              "      cursor: pointer;\n",
              "      display: none;\n",
              "      fill: #1967D2;\n",
              "      height: 32px;\n",
              "      padding: 0 0 0 0;\n",
              "      width: 32px;\n",
              "    }\n",
              "\n",
              "    .colab-df-convert:hover {\n",
              "      background-color: #E2EBFA;\n",
              "      box-shadow: 0px 1px 2px rgba(60, 64, 67, 0.3), 0px 1px 3px 1px rgba(60, 64, 67, 0.15);\n",
              "      fill: #174EA6;\n",
              "    }\n",
              "\n",
              "    [theme=dark] .colab-df-convert {\n",
              "      background-color: #3B4455;\n",
              "      fill: #D2E3FC;\n",
              "    }\n",
              "\n",
              "    [theme=dark] .colab-df-convert:hover {\n",
              "      background-color: #434B5C;\n",
              "      box-shadow: 0px 1px 3px 1px rgba(0, 0, 0, 0.15);\n",
              "      filter: drop-shadow(0px 1px 2px rgba(0, 0, 0, 0.3));\n",
              "      fill: #FFFFFF;\n",
              "    }\n",
              "  </style>\n",
              "\n",
              "      <script>\n",
              "        const buttonEl =\n",
              "          document.querySelector('#df-cf107aa8-2c4e-4abf-94b2-d04faa4c31e8 button.colab-df-convert');\n",
              "        buttonEl.style.display =\n",
              "          google.colab.kernel.accessAllowed ? 'block' : 'none';\n",
              "\n",
              "        async function convertToInteractive(key) {\n",
              "          const element = document.querySelector('#df-cf107aa8-2c4e-4abf-94b2-d04faa4c31e8');\n",
              "          const dataTable =\n",
              "            await google.colab.kernel.invokeFunction('convertToInteractive',\n",
              "                                                     [key], {});\n",
              "          if (!dataTable) return;\n",
              "\n",
              "          const docLinkHtml = 'Like what you see? Visit the ' +\n",
              "            '<a target=\"_blank\" href=https://colab.research.google.com/notebooks/data_table.ipynb>data table notebook</a>'\n",
              "            + ' to learn more about interactive tables.';\n",
              "          element.innerHTML = '';\n",
              "          dataTable['output_type'] = 'display_data';\n",
              "          await google.colab.output.renderOutput(dataTable, element);\n",
              "          const docLink = document.createElement('div');\n",
              "          docLink.innerHTML = docLinkHtml;\n",
              "          element.appendChild(docLink);\n",
              "        }\n",
              "      </script>\n",
              "    </div>\n",
              "  </div>\n",
              "  "
            ]
          },
          "metadata": {},
          "execution_count": 21
        }
      ],
      "source": [
        "# correlation\n",
        "df.iloc[:,1:12].corr()"
      ]
    },
    {
      "cell_type": "code",
      "execution_count": 22,
      "metadata": {
        "colab": {
          "base_uri": "https://localhost:8080/",
          "height": 725
        },
        "id": "vQ-kEqHuysUR",
        "outputId": "de7ca64c-19ff-4b86-fd2a-8e41b1f6a10f"
      },
      "outputs": [
        {
          "output_type": "execute_result",
          "data": {
            "text/plain": [
              "<matplotlib.axes._subplots.AxesSubplot at 0x7f38aefdbd10>"
            ]
          },
          "metadata": {},
          "execution_count": 22
        },
        {
          "output_type": "display_data",
          "data": {
            "text/plain": [
              "<Figure size 720x720 with 2 Axes>"
            ],
            "image/png": "[encoded data removed]"
          },
          "metadata": {
            "needs_background": "light"
          }
        }
      ],
      "source": [
        "plt.figure(figsize=(10,10))\n",
        "# setting the parameter values\n",
        "annot = True #(to write value inside)\n",
        "\n",
        "# setting the parameter values\n",
        "cmap = \"tab20\"\n",
        "center = 0\n",
        "\n",
        "sns.heatmap(df.iloc[:,1:12].corr(), annot=annot, cmap=cmap, center=center)"
      ]
    },
    {
      "cell_type": "code",
      "execution_count": 23,
      "metadata": {
        "colab": {
          "base_uri": "https://localhost:8080/"
        },
        "id": "hq3m98bIysUR",
        "outputId": "45ee1a91-10ad-4be7-91a8-c53180a5f0cb"
      },
      "outputs": [
        {
          "output_type": "stream",
          "name": "stdout",
          "text": [
            "<class 'numpy.ndarray'>\n",
            "<class 'pandas.core.frame.DataFrame'>\n",
            "[[ 17.99    10.38   122.8    ...   0.7119   0.2654   0.4601]\n",
            " [ 20.57    17.77   132.9    ...   0.2416   0.186    0.275 ]\n",
            " [ 19.69    21.25   130.     ...   0.4504   0.243    0.3613]\n",
            " ...\n",
            " [ 16.6     28.08   108.3    ...   0.3403   0.1418   0.2218]\n",
            " [ 20.6     29.33   140.1    ...   0.9387   0.265    0.4087]\n",
            " [  7.76    24.54    47.92   ...   0.       0.       0.2871]]\n",
            "[1 1 1 1 1 1 1 1 1 1 1 1 1 1 1 1 1 1 1 0 0 0 1 1 1 1 1 1 1 1 1 1 1 1 1 1 1\n",
            " 0 1 1 1 1 1 1 1 1 0 1 0 0 0 0 0 1 1 0 1 1 0 0 0 0 1 0 1 1 0 0 0 0 1 0 1 1\n",
            " 0 1 0 1 1 0 0 0 1 1 0 1 1 1 0 0 0 1 0 0 1 1 0 0 0 1 1 0 0 0 0 1 0 0 1 0 0\n",
            " 0 0 0 0 0 0 1 1 1 0 1 1 0 0 0 1 1 0 1 0 1 1 0 1 1 0 0 1 0 0 1 0 0 0 0 1 0\n",
            " 0 0 0 0 0 0 0 0 1 0 0 0 0 1 1 0 1 0 0 1 1 0 0 1 1 0 0 0 0 1 0 0 1 1 1 0 1\n",
            " 0 1 0 0 0 1 0 0 1 1 0 1 1 1 1 0 1 1 1 0 1 0 1 0 0 1 0 1 1 1 1 0 0 1 1 0 0\n",
            " 0 1 0 0 0 0 0 1 1 0 0 1 0 0 1 1 0 1 0 0 0 0 1 0 0 0 0 0 1 0 1 1 1 1 1 1 1\n",
            " 1 1 1 1 1 1 1 0 0 0 0 0 0 1 0 1 0 0 1 0 0 1 0 1 1 0 0 0 0 0 0 0 0 0 0 0 0\n",
            " 0 1 0 0 1 0 1 0 0 0 0 0 0 0 0 0 0 0 0 0 0 1 0 0 0 1 0 1 0 0 0 0 1 1 1 0 0\n",
            " 0 0 1 0 1 0 1 0 0 0 1 0 0 0 0 0 0 0 1 1 1 0 0 0 0 0 0 0 0 0 0 0 1 1 0 1 1\n",
            " 1 0 1 1 0 0 0 0 0 1 0 0 0 0 0 1 0 0 0 1 0 0 1 1 0 0 0 0 0 0 1 0 0 0 0 0 0\n",
            " 0 1 0 0 0 0 0 1 0 0 1 0 0 0 0 0 0 0 0 0 0 0 0 1 0 1 1 0 1 0 0 0 0 0 1 0 0\n",
            " 1 0 1 0 0 1 0 1 0 0 0 0 0 0 0 0 1 1 0 0 0 0 0 0 1 0 0 0 0 0 0 0 0 0 0 1 0\n",
            " 0 0 0 0 0 0 1 0 1 0 0 1 0 0 0 0 0 1 1 0 1 0 1 0 0 0 0 0 1 0 0 1 0 1 0 1 1\n",
            " 0 0 0 1 0 0 0 0 0 0 0 0 0 0 0 1 0 1 1 0 0 0 0 0 0 0 0 0 0 0 0 0 0 0 0 0 0\n",
            " 0 0 0 0 0 0 0 1 1 1 1 1 1 0]\n"
          ]
        }
      ],
      "source": [
        "# split the data set into independent (X) and dependent (Y) data sets\n",
        "\n",
        "X = df.iloc[:,2:31].values #(.Values to take as array.. or else dataframe)\n",
        "Y = df.iloc[:,1].values\n",
        "print(type(X))\n",
        "print(type(df))\n",
        "print(X)\n",
        "print(Y)"
      ]
    },
    {
      "cell_type": "code",
      "execution_count": 24,
      "metadata": {
        "colab": {
          "base_uri": "https://localhost:8080/"
        },
        "id": "CaZppUlsysUS",
        "outputId": "26dda795-efab-4c54-89f7-f3cf95c4cac4"
      },
      "outputs": [
        {
          "output_type": "stream",
          "name": "stdout",
          "text": [
            "(426, 29)\n",
            "(143, 29)\n",
            "(426,)\n",
            "(143,)\n"
          ]
        }
      ],
      "source": [
        "# Split the data set into training and test\n",
        "from sklearn.model_selection import train_test_split\n",
        "\n",
        "X_train, X_test, Y_train, Y_test = train_test_split(X,Y, test_size=0.25, random_state=0)\n",
        "\n",
        "print(X_train.shape)\n",
        "print(X_test.shape)\n",
        "print(Y_train.shape)\n",
        "print(Y_test.shape)"
      ]
    },
    {
      "cell_type": "code",
      "execution_count": 25,
      "metadata": {
        "id": "6_kyvXJBysUS"
      },
      "outputs": [],
      "source": [
        "# Scale the data (feature scaling)\n",
        "from sklearn.preprocessing import StandardScaler\n",
        "sc = StandardScaler()\n",
        "X_train = sc.fit_transform(X_train)\n",
        "X_test = sc.fit_transform(X_test)"
      ]
    },
    {
      "cell_type": "code",
      "execution_count": 26,
      "metadata": {
        "colab": {
          "base_uri": "https://localhost:8080/"
        },
        "id": "tbjJwS-dysUS",
        "outputId": "817527e2-51a7-4aa0-d43e-0da67d406fb3"
      },
      "outputs": [
        {
          "output_type": "stream",
          "name": "stdout",
          "text": [
            "[[-0.65079907 -0.43057322 -0.68024847 ... -0.69592933 -0.36433881\n",
            "   0.32349851]\n",
            " [-0.82835341  0.15226547 -0.82773762 ... -1.29277423 -1.45036679\n",
            "   0.62563098]\n",
            " [ 1.68277234  2.18977235  1.60009756 ...  0.26255563  0.72504581\n",
            "  -0.51329768]\n",
            " ...\n",
            " [-1.33114223 -0.22172269 -1.3242844  ... -0.78274313 -0.98806491\n",
            "  -0.69995543]\n",
            " [-1.25110186 -0.24600763 -1.28700242 ... -1.36015587 -1.75887319\n",
            "  -1.56206114]\n",
            " [-0.74662205  1.14066273 -0.72203706 ...  0.47201917 -0.2860679\n",
            "  -1.24094654]]\n"
          ]
        }
      ],
      "source": [
        "print(X_train)"
      ]
    },
    {
      "cell_type": "code",
      "execution_count": 27,
      "metadata": {
        "id": "p34muZIcysUT"
      },
      "outputs": [],
      "source": [
        "# Create a function for the models\n",
        "def models(X_train, Y_train):\n",
        "    \n",
        "    #Logistic Regression\n",
        "    from sklearn.linear_model import LogisticRegression\n",
        "    log = LogisticRegression(random_state=0)\n",
        "    log.fit(X_train, Y_train)\n",
        "    \n",
        "    #Decision Tree\n",
        "    from sklearn.tree import DecisionTreeClassifier\n",
        "    tree = DecisionTreeClassifier(criterion= 'entropy', random_state=0)\n",
        "    tree.fit(X_train, Y_train)\n",
        "    \n",
        "    #Random Forest Classifier\n",
        "    from sklearn.ensemble import RandomForestClassifier\n",
        "    forest = RandomForestClassifier(n_estimators=10, criterion = 'entropy', random_state=0)\n",
        "    forest.fit(X_train, Y_train)\n",
        "    \n",
        "    # Print the models accuracy on the training data\n",
        "\n",
        "    print('[0]Logistic Regression Training Accuracy:', log.score(X_train, Y_train))\n",
        "    print('[1]Decision Tree Classifier Training Accuracy:', tree.score(X_train, Y_train))\n",
        "    print('[2]Random Forest Classifier Training Accuracy:', forest.score(X_train, Y_train))\n",
        "\n",
        "    return log, tree, forest"
      ]
    },
    {
      "cell_type": "code",
      "execution_count": 28,
      "metadata": {
        "colab": {
          "base_uri": "https://localhost:8080/"
        },
        "id": "600cpBuPysUT",
        "outputId": "5294a885-a595-4538-90ea-0d2fbd3e1879"
      },
      "outputs": [
        {
          "output_type": "stream",
          "name": "stdout",
          "text": [
            "[0]Logistic Regression Training Accuracy: 0.9906103286384976\n",
            "[1]Decision Tree Classifier Training Accuracy: 1.0\n",
            "[2]Random Forest Classifier Training Accuracy: 0.9953051643192489\n"
          ]
        }
      ],
      "source": [
        "# Getting all of the models\n",
        "model = models(X_train, Y_train)"
      ]
    },
    {
      "cell_type": "code",
      "execution_count": 29,
      "metadata": {
        "colab": {
          "base_uri": "https://localhost:8080/"
        },
        "id": "SlpxXqILysUT",
        "outputId": "b8656864-6392-4eb3-8e44-2287c8093c20"
      },
      "outputs": [
        {
          "output_type": "stream",
          "name": "stdout",
          "text": [
            "Model 0\n",
            "[[86  4]\n",
            " [ 3 50]]\n",
            "Testing Accuracy= 0.951048951048951\n",
            "\n",
            "Model 1\n",
            "[[83  7]\n",
            " [ 2 51]]\n",
            "Testing Accuracy= 0.9370629370629371\n",
            "\n",
            "Model 2\n",
            "[[87  3]\n",
            " [ 2 51]]\n",
            "Testing Accuracy= 0.965034965034965\n",
            "\n"
          ]
        }
      ],
      "source": [
        "# test model accuracy on test data on confusion matrix\n",
        "from sklearn.metrics import confusion_matrix\n",
        "\n",
        "for i in range(len(model)):\n",
        "    print('Model',i)\n",
        "    cm = confusion_matrix(Y_test, model[i].predict(X_test))\n",
        "\n",
        "    TP = cm[0][0]\n",
        "    TN = cm[1][1]\n",
        "    FN = cm[1][0]\n",
        "    FP = cm[0][1]\n",
        "\n",
        "    print(cm)\n",
        "    print('Testing Accuracy=', (TP+TN)/(TP+TN+FP+FN))\n",
        "    print()"
      ]
    },
    {
      "cell_type": "code",
      "execution_count": 30,
      "metadata": {
        "colab": {
          "base_uri": "https://localhost:8080/"
        },
        "id": "FmLgKPZ4ysUU",
        "outputId": "abbe0017-e054-480a-bbfc-009f0b346875"
      },
      "outputs": [
        {
          "output_type": "stream",
          "name": "stdout",
          "text": [
            "Model 0\n",
            "              precision    recall  f1-score   support\n",
            "\n",
            "           0       0.97      0.96      0.96        90\n",
            "           1       0.93      0.94      0.93        53\n",
            "\n",
            "    accuracy                           0.95       143\n",
            "   macro avg       0.95      0.95      0.95       143\n",
            "weighted avg       0.95      0.95      0.95       143\n",
            "\n",
            "0.951048951048951\n",
            "\n",
            "Model 1\n",
            "              precision    recall  f1-score   support\n",
            "\n",
            "           0       0.98      0.92      0.95        90\n",
            "           1       0.88      0.96      0.92        53\n",
            "\n",
            "    accuracy                           0.94       143\n",
            "   macro avg       0.93      0.94      0.93       143\n",
            "weighted avg       0.94      0.94      0.94       143\n",
            "\n",
            "0.9370629370629371\n",
            "\n",
            "Model 2\n",
            "              precision    recall  f1-score   support\n",
            "\n",
            "           0       0.98      0.97      0.97        90\n",
            "           1       0.94      0.96      0.95        53\n",
            "\n",
            "    accuracy                           0.97       143\n",
            "   macro avg       0.96      0.96      0.96       143\n",
            "weighted avg       0.97      0.97      0.97       143\n",
            "\n",
            "0.965034965034965\n",
            "\n"
          ]
        }
      ],
      "source": [
        "# Show another way to get metrics of the models\n",
        "from sklearn.metrics import classification_report\n",
        "from sklearn.metrics import accuracy_score\n",
        "\n",
        "for i in range(len(model)):\n",
        "    print('Model',i)\n",
        "    print(classification_report(Y_test, model[i].predict(X_test)))\n",
        "    print(accuracy_score(Y_test, model[i].predict(X_test)))\n",
        "    print()"
      ]
    },
    {
      "cell_type": "code",
      "execution_count": 31,
      "metadata": {
        "colab": {
          "base_uri": "https://localhost:8080/"
        },
        "id": "GTzswVF0ysUU",
        "outputId": "794d75eb-be7e-4a2a-cc48-7fa3ea9d7c59"
      },
      "outputs": [
        {
          "output_type": "stream",
          "name": "stdout",
          "text": [
            "[1 0 0 0 0 0 0 0 0 0 1 0 0 1 1 1 0 1 1 1 1 1 0 0 1 0 0 1 0 1 0 1 0 1 0 1 0\n",
            " 1 0 1 0 0 1 0 0 1 0 0 0 1 1 1 1 0 0 0 0 0 0 1 1 1 0 0 1 0 1 1 1 0 0 1 0 0\n",
            " 1 0 0 0 0 0 1 1 1 0 1 0 0 0 1 1 0 1 0 1 0 0 1 0 0 0 0 0 0 0 1 0 1 0 1 1 0\n",
            " 1 1 0 0 0 0 0 0 0 0 0 1 0 1 0 0 0 0 0 1 0 0 0 0 0 0 1 1 0 0 0 1]\n",
            "\n",
            "[1 0 0 0 0 0 0 0 0 0 0 0 0 0 0 1 0 1 1 1 1 1 0 0 1 0 0 1 0 1 0 1 0 1 0 1 0\n",
            " 1 0 1 1 0 1 0 0 1 0 0 0 1 1 1 1 0 0 0 0 0 0 1 1 1 0 0 1 0 1 1 1 0 0 1 0 1\n",
            " 1 0 0 0 0 0 1 1 1 0 1 0 0 0 1 1 0 1 0 1 0 0 1 0 0 0 0 0 0 0 1 0 1 0 1 1 0\n",
            " 1 1 0 0 0 0 0 0 0 0 0 1 0 1 0 0 0 0 0 1 0 0 0 0 0 0 1 1 0 0 0 1]\n"
          ]
        }
      ],
      "source": [
        "\n",
        "#Print the prediction of Random Forest Classifier Model\n",
        "pred = model[2].predict(X_test)\n",
        "print(pred)\n",
        "print()\n",
        "print(Y_test)"
      ]
    },
    {
      "cell_type": "code",
      "execution_count": 32,
      "metadata": {
        "id": "NWgP9QSuysUU"
      },
      "outputs": [],
      "source": [
        "import xgboost as xgb\n",
        "import pickle #(to dumb the model)\n",
        "from sklearn import datasets\n",
        "from xgboost import XGBClassifier\n",
        "from sklearn.metrics import accuracy_score"
      ]
    },
    {
      "cell_type": "code",
      "execution_count": 33,
      "metadata": {
        "colab": {
          "base_uri": "https://localhost:8080/"
        },
        "id": "xtYnst-kysUU",
        "outputId": "8009196b-f3e3-4391-fe74-01bc20868d8a"
      },
      "outputs": [
        {
          "output_type": "stream",
          "name": "stdout",
          "text": [
            "XGBoost Classification Training Accuracy: 1.0\n"
          ]
        }
      ],
      "source": [
        "# fit model no training data\n",
        "model = XGBClassifier(objective='binary:logistic')\n",
        "model.fit(X_train, Y_train)\n",
        "print('XGBoost Classification Training Accuracy:', model.score(X_train, Y_train))"
      ]
    },
    {
      "cell_type": "code",
      "execution_count": 34,
      "metadata": {
        "colab": {
          "base_uri": "https://localhost:8080/"
        },
        "id": "wcjnkzoeysUV",
        "outputId": "6d0f937f-37d1-424f-d2a7-523f9d6bb5f4"
      },
      "outputs": [
        {
          "output_type": "execute_result",
          "data": {
            "text/plain": [
              "1.0"
            ]
          },
          "metadata": {},
          "execution_count": 34
        }
      ],
      "source": [
        "\n",
        "# cheking training accuracy\n",
        "y_pred = model.predict(X_train)\n",
        "predictions = [round(value) for value in y_pred]\n",
        "accuracy = accuracy_score(Y_train,predictions)\n",
        "accuracy"
      ]
    },
    {
      "cell_type": "code",
      "execution_count": 35,
      "metadata": {
        "colab": {
          "base_uri": "https://localhost:8080/"
        },
        "id": "6LLHKknBysUV",
        "outputId": "a2a9fd47-d079-488b-8758-63de525168e2"
      },
      "outputs": [
        {
          "output_type": "execute_result",
          "data": {
            "text/plain": [
              "1.0"
            ]
          },
          "metadata": {},
          "execution_count": 35
        }
      ],
      "source": [
        "# cheking initial test accuracy\n",
        "y_pred = model.predict(X_test)\n",
        "predictions = [round(value) for value in y_pred]\n",
        "accuracy = accuracy_score(y_pred,predictions)\n",
        "accuracy"
      ]
    },
    {
      "cell_type": "code",
      "execution_count": 36,
      "metadata": {
        "id": "wuFVDzuzysUV"
      },
      "outputs": [],
      "source": [
        "# GridSearchCV (use for small data.. time consuming)"
      ]
    },
    {
      "cell_type": "code",
      "execution_count": 37,
      "metadata": {
        "id": "wSjiAcOGysUV"
      },
      "outputs": [],
      "source": [
        "\n",
        "from sklearn.model_selection import GridSearchCV"
      ]
    },
    {
      "cell_type": "code",
      "execution_count": 38,
      "metadata": {
        "id": "0yN2do0SysUW"
      },
      "outputs": [],
      "source": [
        "param_grid={\n",
        "   \n",
        "    ' learning_rate':[1,0.5,0.1,0.01,0.001], #shld be low to reach global minima\n",
        "    'max_depth': [3,5,10,20], #no.of layers in tree\n",
        "    'n_estimators':[10,50,100,200] #no. of trees\n",
        "    \n",
        "}"
      ]
    },
    {
      "cell_type": "code",
      "execution_count": 39,
      "metadata": {
        "id": "jGB6nnSFysUW"
      },
      "outputs": [],
      "source": [
        "grid= GridSearchCV(XGBClassifier(objective='binary:logistic'),param_grid, verbose=3)"
      ]
    },
    {
      "cell_type": "code",
      "execution_count": 40,
      "metadata": {
        "colab": {
          "base_uri": "https://localhost:8080/"
        },
        "id": "mWwLA7N9ysUW",
        "outputId": "a98674db-75bd-4fe8-9a48-4af3bbc59188"
      },
      "outputs": [
        {
          "output_type": "stream",
          "name": "stdout",
          "text": [
            "Fitting 5 folds for each of 80 candidates, totalling 400 fits\n",
            "[CV 1/5] END  learning_rate=1, max_depth=3, n_estimators=10;, score=0.907 total time=   0.0s\n",
            "[CV 2/5] END  learning_rate=1, max_depth=3, n_estimators=10;, score=0.941 total time=   0.0s\n",
            "[CV 3/5] END  learning_rate=1, max_depth=3, n_estimators=10;, score=0.929 total time=   0.0s\n",
            "[CV 4/5] END  learning_rate=1, max_depth=3, n_estimators=10;, score=0.941 total time=   0.0s\n",
            "[CV 5/5] END  learning_rate=1, max_depth=3, n_estimators=10;, score=0.929 total time=   0.0s\n",
            "[CV 1/5] END  learning_rate=1, max_depth=3, n_estimators=50;, score=0.953 total time=   0.0s\n",
            "[CV 2/5] END  learning_rate=1, max_depth=3, n_estimators=50;, score=0.965 total time=   0.1s\n",
            "[CV 3/5] END  learning_rate=1, max_depth=3, n_estimators=50;, score=0.953 total time=   0.1s\n",
            "[CV 4/5] END  learning_rate=1, max_depth=3, n_estimators=50;, score=0.953 total time=   0.0s\n",
            "[CV 5/5] END  learning_rate=1, max_depth=3, n_estimators=50;, score=0.953 total time=   0.0s\n",
            "[CV 1/5] END  learning_rate=1, max_depth=3, n_estimators=100;, score=0.953 total time=   0.1s\n",
            "[CV 2/5] END  learning_rate=1, max_depth=3, n_estimators=100;, score=0.965 total time=   0.1s\n",
            "[CV 3/5] END  learning_rate=1, max_depth=3, n_estimators=100;, score=0.941 total time=   0.1s\n",
            "[CV 4/5] END  learning_rate=1, max_depth=3, n_estimators=100;, score=0.965 total time=   0.1s\n",
            "[CV 5/5] END  learning_rate=1, max_depth=3, n_estimators=100;, score=0.941 total time=   0.1s\n",
            "[CV 1/5] END  learning_rate=1, max_depth=3, n_estimators=200;, score=0.965 total time=   0.1s\n",
            "[CV 2/5] END  learning_rate=1, max_depth=3, n_estimators=200;, score=0.965 total time=   0.2s\n",
            "[CV 3/5] END  learning_rate=1, max_depth=3, n_estimators=200;, score=0.941 total time=   0.1s\n",
            "[CV 4/5] END  learning_rate=1, max_depth=3, n_estimators=200;, score=0.976 total time=   0.1s\n",
            "[CV 5/5] END  learning_rate=1, max_depth=3, n_estimators=200;, score=0.941 total time=   0.2s\n",
            "[CV 1/5] END  learning_rate=1, max_depth=5, n_estimators=10;, score=0.907 total time=   0.0s\n",
            "[CV 2/5] END  learning_rate=1, max_depth=5, n_estimators=10;, score=0.929 total time=   0.0s\n",
            "[CV 3/5] END  learning_rate=1, max_depth=5, n_estimators=10;, score=0.929 total time=   0.0s\n",
            "[CV 4/5] END  learning_rate=1, max_depth=5, n_estimators=10;, score=0.953 total time=   0.0s\n",
            "[CV 5/5] END  learning_rate=1, max_depth=5, n_estimators=10;, score=0.953 total time=   0.0s\n",
            "[CV 1/5] END  learning_rate=1, max_depth=5, n_estimators=50;, score=0.942 total time=   0.1s\n",
            "[CV 2/5] END  learning_rate=1, max_depth=5, n_estimators=50;, score=0.953 total time=   0.1s\n",
            "[CV 3/5] END  learning_rate=1, max_depth=5, n_estimators=50;, score=0.941 total time=   0.1s\n",
            "[CV 4/5] END  learning_rate=1, max_depth=5, n_estimators=50;, score=0.953 total time=   0.1s\n",
            "[CV 5/5] END  learning_rate=1, max_depth=5, n_estimators=50;, score=0.953 total time=   0.1s\n",
            "[CV 1/5] END  learning_rate=1, max_depth=5, n_estimators=100;, score=0.965 total time=   0.1s\n",
            "[CV 2/5] END  learning_rate=1, max_depth=5, n_estimators=100;, score=0.953 total time=   0.2s\n",
            "[CV 3/5] END  learning_rate=1, max_depth=5, n_estimators=100;, score=0.941 total time=   0.1s\n",
            "[CV 4/5] END  learning_rate=1, max_depth=5, n_estimators=100;, score=0.976 total time=   0.1s\n",
            "[CV 5/5] END  learning_rate=1, max_depth=5, n_estimators=100;, score=0.953 total time=   0.1s\n",
            "[CV 1/5] END  learning_rate=1, max_depth=5, n_estimators=200;, score=0.965 total time=   0.2s\n",
            "[CV 2/5] END  learning_rate=1, max_depth=5, n_estimators=200;, score=0.953 total time=   0.1s\n",
            "[CV 3/5] END  learning_rate=1, max_depth=5, n_estimators=200;, score=0.941 total time=   0.1s\n",
            "[CV 4/5] END  learning_rate=1, max_depth=5, n_estimators=200;, score=0.976 total time=   0.1s\n",
            "[CV 5/5] END  learning_rate=1, max_depth=5, n_estimators=200;, score=0.941 total time=   0.1s\n",
            "[CV 1/5] END  learning_rate=1, max_depth=10, n_estimators=10;, score=0.907 total time=   0.0s\n",
            "[CV 2/5] END  learning_rate=1, max_depth=10, n_estimators=10;, score=0.929 total time=   0.0s\n",
            "[CV 3/5] END  learning_rate=1, max_depth=10, n_estimators=10;, score=0.929 total time=   0.0s\n",
            "[CV 4/5] END  learning_rate=1, max_depth=10, n_estimators=10;, score=0.953 total time=   0.0s\n",
            "[CV 5/5] END  learning_rate=1, max_depth=10, n_estimators=10;, score=0.953 total time=   0.0s\n",
            "[CV 1/5] END  learning_rate=1, max_depth=10, n_estimators=50;, score=0.942 total time=   0.1s\n",
            "[CV 2/5] END  learning_rate=1, max_depth=10, n_estimators=50;, score=0.953 total time=   0.1s\n",
            "[CV 3/5] END  learning_rate=1, max_depth=10, n_estimators=50;, score=0.941 total time=   0.1s\n",
            "[CV 4/5] END  learning_rate=1, max_depth=10, n_estimators=50;, score=0.953 total time=   0.1s\n",
            "[CV 5/5] END  learning_rate=1, max_depth=10, n_estimators=50;, score=0.953 total time=   0.1s\n",
            "[CV 1/5] END  learning_rate=1, max_depth=10, n_estimators=100;, score=0.965 total time=   0.1s\n",
            "[CV 2/5] END  learning_rate=1, max_depth=10, n_estimators=100;, score=0.953 total time=   0.1s\n",
            "[CV 3/5] END  learning_rate=1, max_depth=10, n_estimators=100;, score=0.941 total time=   0.1s\n",
            "[CV 4/5] END  learning_rate=1, max_depth=10, n_estimators=100;, score=0.953 total time=   0.1s\n",
            "[CV 5/5] END  learning_rate=1, max_depth=10, n_estimators=100;, score=0.953 total time=   0.1s\n",
            "[CV 1/5] END  learning_rate=1, max_depth=10, n_estimators=200;, score=0.965 total time=   0.1s\n",
            "[CV 2/5] END  learning_rate=1, max_depth=10, n_estimators=200;, score=0.953 total time=   0.1s\n",
            "[CV 3/5] END  learning_rate=1, max_depth=10, n_estimators=200;, score=0.941 total time=   0.1s\n",
            "[CV 4/5] END  learning_rate=1, max_depth=10, n_estimators=200;, score=0.965 total time=   0.1s\n",
            "[CV 5/5] END  learning_rate=1, max_depth=10, n_estimators=200;, score=0.941 total time=   0.1s\n",
            "[CV 1/5] END  learning_rate=1, max_depth=20, n_estimators=10;, score=0.907 total time=   0.0s\n",
            "[CV 2/5] END  learning_rate=1, max_depth=20, n_estimators=10;, score=0.929 total time=   0.0s\n",
            "[CV 3/5] END  learning_rate=1, max_depth=20, n_estimators=10;, score=0.929 total time=   0.0s\n",
            "[CV 4/5] END  learning_rate=1, max_depth=20, n_estimators=10;, score=0.953 total time=   0.0s\n",
            "[CV 5/5] END  learning_rate=1, max_depth=20, n_estimators=10;, score=0.953 total time=   0.0s\n",
            "[CV 1/5] END  learning_rate=1, max_depth=20, n_estimators=50;, score=0.942 total time=   0.1s\n",
            "[CV 2/5] END  learning_rate=1, max_depth=20, n_estimators=50;, score=0.953 total time=   0.1s\n",
            "[CV 3/5] END  learning_rate=1, max_depth=20, n_estimators=50;, score=0.941 total time=   0.1s\n",
            "[CV 4/5] END  learning_rate=1, max_depth=20, n_estimators=50;, score=0.953 total time=   0.1s\n",
            "[CV 5/5] END  learning_rate=1, max_depth=20, n_estimators=50;, score=0.953 total time=   0.1s\n",
            "[CV 1/5] END  learning_rate=1, max_depth=20, n_estimators=100;, score=0.965 total time=   0.1s\n",
            "[CV 2/5] END  learning_rate=1, max_depth=20, n_estimators=100;, score=0.953 total time=   0.1s\n",
            "[CV 3/5] END  learning_rate=1, max_depth=20, n_estimators=100;, score=0.941 total time=   0.1s\n",
            "[CV 4/5] END  learning_rate=1, max_depth=20, n_estimators=100;, score=0.953 total time=   0.1s\n",
            "[CV 5/5] END  learning_rate=1, max_depth=20, n_estimators=100;, score=0.953 total time=   0.1s\n",
            "[CV 1/5] END  learning_rate=1, max_depth=20, n_estimators=200;, score=0.965 total time=   0.1s\n",
            "[CV 2/5] END  learning_rate=1, max_depth=20, n_estimators=200;, score=0.953 total time=   0.1s\n",
            "[CV 3/5] END  learning_rate=1, max_depth=20, n_estimators=200;, score=0.941 total time=   0.1s\n",
            "[CV 4/5] END  learning_rate=1, max_depth=20, n_estimators=200;, score=0.965 total time=   0.1s\n",
            "[CV 5/5] END  learning_rate=1, max_depth=20, n_estimators=200;, score=0.941 total time=   0.1s\n",
            "[CV 1/5] END  learning_rate=0.5, max_depth=3, n_estimators=10;, score=0.907 total time=   0.0s\n",
            "[CV 2/5] END  learning_rate=0.5, max_depth=3, n_estimators=10;, score=0.941 total time=   0.0s\n",
            "[CV 3/5] END  learning_rate=0.5, max_depth=3, n_estimators=10;, score=0.929 total time=   0.0s\n",
            "[CV 4/5] END  learning_rate=0.5, max_depth=3, n_estimators=10;, score=0.941 total time=   0.0s\n",
            "[CV 5/5] END  learning_rate=0.5, max_depth=3, n_estimators=10;, score=0.929 total time=   0.0s\n",
            "[CV 1/5] END  learning_rate=0.5, max_depth=3, n_estimators=50;, score=0.953 total time=   0.0s\n",
            "[CV 2/5] END  learning_rate=0.5, max_depth=3, n_estimators=50;, score=0.965 total time=   0.0s\n",
            "[CV 3/5] END  learning_rate=0.5, max_depth=3, n_estimators=50;, score=0.953 total time=   0.0s\n",
            "[CV 4/5] END  learning_rate=0.5, max_depth=3, n_estimators=50;, score=0.953 total time=   0.0s\n",
            "[CV 5/5] END  learning_rate=0.5, max_depth=3, n_estimators=50;, score=0.953 total time=   0.0s\n",
            "[CV 1/5] END  learning_rate=0.5, max_depth=3, n_estimators=100;, score=0.953 total time=   0.1s\n",
            "[CV 2/5] END  learning_rate=0.5, max_depth=3, n_estimators=100;, score=0.965 total time=   0.1s\n",
            "[CV 3/5] END  learning_rate=0.5, max_depth=3, n_estimators=100;, score=0.941 total time=   0.1s\n",
            "[CV 4/5] END  learning_rate=0.5, max_depth=3, n_estimators=100;, score=0.965 total time=   0.1s\n",
            "[CV 5/5] END  learning_rate=0.5, max_depth=3, n_estimators=100;, score=0.941 total time=   0.1s\n",
            "[CV 1/5] END  learning_rate=0.5, max_depth=3, n_estimators=200;, score=0.965 total time=   0.1s\n",
            "[CV 2/5] END  learning_rate=0.5, max_depth=3, n_estimators=200;, score=0.965 total time=   0.1s\n",
            "[CV 3/5] END  learning_rate=0.5, max_depth=3, n_estimators=200;, score=0.941 total time=   0.1s\n",
            "[CV 4/5] END  learning_rate=0.5, max_depth=3, n_estimators=200;, score=0.976 total time=   0.1s\n",
            "[CV 5/5] END  learning_rate=0.5, max_depth=3, n_estimators=200;, score=0.941 total time=   0.1s\n",
            "[CV 1/5] END  learning_rate=0.5, max_depth=5, n_estimators=10;, score=0.907 total time=   0.0s\n",
            "[CV 2/5] END  learning_rate=0.5, max_depth=5, n_estimators=10;, score=0.929 total time=   0.0s\n",
            "[CV 3/5] END  learning_rate=0.5, max_depth=5, n_estimators=10;, score=0.929 total time=   0.0s\n",
            "[CV 4/5] END  learning_rate=0.5, max_depth=5, n_estimators=10;, score=0.953 total time=   0.0s\n",
            "[CV 5/5] END  learning_rate=0.5, max_depth=5, n_estimators=10;, score=0.953 total time=   0.0s\n",
            "[CV 1/5] END  learning_rate=0.5, max_depth=5, n_estimators=50;, score=0.942 total time=   0.1s\n",
            "[CV 2/5] END  learning_rate=0.5, max_depth=5, n_estimators=50;, score=0.953 total time=   0.1s\n",
            "[CV 3/5] END  learning_rate=0.5, max_depth=5, n_estimators=50;, score=0.941 total time=   0.1s\n",
            "[CV 4/5] END  learning_rate=0.5, max_depth=5, n_estimators=50;, score=0.953 total time=   0.1s\n",
            "[CV 5/5] END  learning_rate=0.5, max_depth=5, n_estimators=50;, score=0.953 total time=   0.1s\n",
            "[CV 1/5] END  learning_rate=0.5, max_depth=5, n_estimators=100;, score=0.965 total time=   0.1s\n",
            "[CV 2/5] END  learning_rate=0.5, max_depth=5, n_estimators=100;, score=0.953 total time=   0.1s\n",
            "[CV 3/5] END  learning_rate=0.5, max_depth=5, n_estimators=100;, score=0.941 total time=   0.1s\n",
            "[CV 4/5] END  learning_rate=0.5, max_depth=5, n_estimators=100;, score=0.976 total time=   0.1s\n",
            "[CV 5/5] END  learning_rate=0.5, max_depth=5, n_estimators=100;, score=0.953 total time=   0.1s\n",
            "[CV 1/5] END  learning_rate=0.5, max_depth=5, n_estimators=200;, score=0.965 total time=   0.1s\n",
            "[CV 2/5] END  learning_rate=0.5, max_depth=5, n_estimators=200;, score=0.953 total time=   0.1s\n",
            "[CV 3/5] END  learning_rate=0.5, max_depth=5, n_estimators=200;, score=0.941 total time=   0.1s\n",
            "[CV 4/5] END  learning_rate=0.5, max_depth=5, n_estimators=200;, score=0.976 total time=   0.1s\n",
            "[CV 5/5] END  learning_rate=0.5, max_depth=5, n_estimators=200;, score=0.941 total time=   0.1s\n",
            "[CV 1/5] END  learning_rate=0.5, max_depth=10, n_estimators=10;, score=0.907 total time=   0.0s\n",
            "[CV 2/5] END  learning_rate=0.5, max_depth=10, n_estimators=10;, score=0.929 total time=   0.0s\n",
            "[CV 3/5] END  learning_rate=0.5, max_depth=10, n_estimators=10;, score=0.929 total time=   0.0s\n",
            "[CV 4/5] END  learning_rate=0.5, max_depth=10, n_estimators=10;, score=0.953 total time=   0.0s\n",
            "[CV 5/5] END  learning_rate=0.5, max_depth=10, n_estimators=10;, score=0.953 total time=   0.0s\n",
            "[CV 1/5] END  learning_rate=0.5, max_depth=10, n_estimators=50;, score=0.942 total time=   0.1s\n",
            "[CV 2/5] END  learning_rate=0.5, max_depth=10, n_estimators=50;, score=0.953 total time=   0.1s\n",
            "[CV 3/5] END  learning_rate=0.5, max_depth=10, n_estimators=50;, score=0.941 total time=   0.1s\n",
            "[CV 4/5] END  learning_rate=0.5, max_depth=10, n_estimators=50;, score=0.953 total time=   0.1s\n",
            "[CV 5/5] END  learning_rate=0.5, max_depth=10, n_estimators=50;, score=0.953 total time=   0.1s\n",
            "[CV 1/5] END  learning_rate=0.5, max_depth=10, n_estimators=100;, score=0.965 total time=   0.1s\n",
            "[CV 2/5] END  learning_rate=0.5, max_depth=10, n_estimators=100;, score=0.953 total time=   0.2s\n",
            "[CV 3/5] END  learning_rate=0.5, max_depth=10, n_estimators=100;, score=0.941 total time=   0.1s\n",
            "[CV 4/5] END  learning_rate=0.5, max_depth=10, n_estimators=100;, score=0.953 total time=   0.1s\n",
            "[CV 5/5] END  learning_rate=0.5, max_depth=10, n_estimators=100;, score=0.953 total time=   0.1s\n",
            "[CV 1/5] END  learning_rate=0.5, max_depth=10, n_estimators=200;, score=0.965 total time=   0.1s\n",
            "[CV 2/5] END  learning_rate=0.5, max_depth=10, n_estimators=200;, score=0.953 total time=   0.1s\n",
            "[CV 3/5] END  learning_rate=0.5, max_depth=10, n_estimators=200;, score=0.941 total time=   0.1s\n",
            "[CV 4/5] END  learning_rate=0.5, max_depth=10, n_estimators=200;, score=0.965 total time=   0.1s\n",
            "[CV 5/5] END  learning_rate=0.5, max_depth=10, n_estimators=200;, score=0.941 total time=   0.1s\n",
            "[CV 1/5] END  learning_rate=0.5, max_depth=20, n_estimators=10;, score=0.907 total time=   0.0s\n",
            "[CV 2/5] END  learning_rate=0.5, max_depth=20, n_estimators=10;, score=0.929 total time=   0.0s\n",
            "[CV 3/5] END  learning_rate=0.5, max_depth=20, n_estimators=10;, score=0.929 total time=   0.0s\n",
            "[CV 4/5] END  learning_rate=0.5, max_depth=20, n_estimators=10;, score=0.953 total time=   0.0s\n",
            "[CV 5/5] END  learning_rate=0.5, max_depth=20, n_estimators=10;, score=0.953 total time=   0.0s\n",
            "[CV 1/5] END  learning_rate=0.5, max_depth=20, n_estimators=50;, score=0.942 total time=   0.1s\n",
            "[CV 2/5] END  learning_rate=0.5, max_depth=20, n_estimators=50;, score=0.953 total time=   0.1s\n",
            "[CV 3/5] END  learning_rate=0.5, max_depth=20, n_estimators=50;, score=0.941 total time=   0.1s\n",
            "[CV 4/5] END  learning_rate=0.5, max_depth=20, n_estimators=50;, score=0.953 total time=   0.1s\n",
            "[CV 5/5] END  learning_rate=0.5, max_depth=20, n_estimators=50;, score=0.953 total time=   0.1s\n",
            "[CV 1/5] END  learning_rate=0.5, max_depth=20, n_estimators=100;, score=0.965 total time=   0.1s\n",
            "[CV 2/5] END  learning_rate=0.5, max_depth=20, n_estimators=100;, score=0.953 total time=   0.1s\n",
            "[CV 3/5] END  learning_rate=0.5, max_depth=20, n_estimators=100;, score=0.941 total time=   0.1s\n",
            "[CV 4/5] END  learning_rate=0.5, max_depth=20, n_estimators=100;, score=0.953 total time=   0.1s\n",
            "[CV 5/5] END  learning_rate=0.5, max_depth=20, n_estimators=100;, score=0.953 total time=   0.1s\n",
            "[CV 1/5] END  learning_rate=0.5, max_depth=20, n_estimators=200;, score=0.965 total time=   0.1s\n",
            "[CV 2/5] END  learning_rate=0.5, max_depth=20, n_estimators=200;, score=0.953 total time=   0.1s\n",
            "[CV 3/5] END  learning_rate=0.5, max_depth=20, n_estimators=200;, score=0.941 total time=   0.1s\n",
            "[CV 4/5] END  learning_rate=0.5, max_depth=20, n_estimators=200;, score=0.965 total time=   0.1s\n",
            "[CV 5/5] END  learning_rate=0.5, max_depth=20, n_estimators=200;, score=0.941 total time=   0.1s\n",
            "[CV 1/5] END  learning_rate=0.1, max_depth=3, n_estimators=10;, score=0.907 total time=   0.0s\n",
            "[CV 2/5] END  learning_rate=0.1, max_depth=3, n_estimators=10;, score=0.941 total time=   0.0s\n",
            "[CV 3/5] END  learning_rate=0.1, max_depth=3, n_estimators=10;, score=0.929 total time=   0.0s\n",
            "[CV 4/5] END  learning_rate=0.1, max_depth=3, n_estimators=10;, score=0.941 total time=   0.0s\n",
            "[CV 5/5] END  learning_rate=0.1, max_depth=3, n_estimators=10;, score=0.929 total time=   0.0s\n",
            "[CV 1/5] END  learning_rate=0.1, max_depth=3, n_estimators=50;, score=0.953 total time=   0.0s\n",
            "[CV 2/5] END  learning_rate=0.1, max_depth=3, n_estimators=50;, score=0.965 total time=   0.0s\n",
            "[CV 3/5] END  learning_rate=0.1, max_depth=3, n_estimators=50;, score=0.953 total time=   0.0s\n",
            "[CV 4/5] END  learning_rate=0.1, max_depth=3, n_estimators=50;, score=0.953 total time=   0.0s\n",
            "[CV 5/5] END  learning_rate=0.1, max_depth=3, n_estimators=50;, score=0.953 total time=   0.0s\n",
            "[CV 1/5] END  learning_rate=0.1, max_depth=3, n_estimators=100;, score=0.953 total time=   0.1s\n",
            "[CV 2/5] END  learning_rate=0.1, max_depth=3, n_estimators=100;, score=0.965 total time=   0.1s\n",
            "[CV 3/5] END  learning_rate=0.1, max_depth=3, n_estimators=100;, score=0.941 total time=   0.1s\n",
            "[CV 4/5] END  learning_rate=0.1, max_depth=3, n_estimators=100;, score=0.965 total time=   0.1s\n",
            "[CV 5/5] END  learning_rate=0.1, max_depth=3, n_estimators=100;, score=0.941 total time=   0.1s\n",
            "[CV 1/5] END  learning_rate=0.1, max_depth=3, n_estimators=200;, score=0.965 total time=   0.1s\n",
            "[CV 2/5] END  learning_rate=0.1, max_depth=3, n_estimators=200;, score=0.965 total time=   0.1s\n",
            "[CV 3/5] END  learning_rate=0.1, max_depth=3, n_estimators=200;, score=0.941 total time=   0.1s\n",
            "[CV 4/5] END  learning_rate=0.1, max_depth=3, n_estimators=200;, score=0.976 total time=   0.1s\n",
            "[CV 5/5] END  learning_rate=0.1, max_depth=3, n_estimators=200;, score=0.941 total time=   0.1s\n",
            "[CV 1/5] END  learning_rate=0.1, max_depth=5, n_estimators=10;, score=0.907 total time=   0.0s\n",
            "[CV 2/5] END  learning_rate=0.1, max_depth=5, n_estimators=10;, score=0.929 total time=   0.0s\n",
            "[CV 3/5] END  learning_rate=0.1, max_depth=5, n_estimators=10;, score=0.929 total time=   0.0s\n",
            "[CV 4/5] END  learning_rate=0.1, max_depth=5, n_estimators=10;, score=0.953 total time=   0.0s\n",
            "[CV 5/5] END  learning_rate=0.1, max_depth=5, n_estimators=10;, score=0.953 total time=   0.0s\n",
            "[CV 1/5] END  learning_rate=0.1, max_depth=5, n_estimators=50;, score=0.942 total time=   0.1s\n",
            "[CV 2/5] END  learning_rate=0.1, max_depth=5, n_estimators=50;, score=0.953 total time=   0.1s\n",
            "[CV 3/5] END  learning_rate=0.1, max_depth=5, n_estimators=50;, score=0.941 total time=   0.1s\n",
            "[CV 4/5] END  learning_rate=0.1, max_depth=5, n_estimators=50;, score=0.953 total time=   0.1s\n",
            "[CV 5/5] END  learning_rate=0.1, max_depth=5, n_estimators=50;, score=0.953 total time=   0.1s\n",
            "[CV 1/5] END  learning_rate=0.1, max_depth=5, n_estimators=100;, score=0.965 total time=   0.1s\n",
            "[CV 2/5] END  learning_rate=0.1, max_depth=5, n_estimators=100;, score=0.953 total time=   0.1s\n",
            "[CV 3/5] END  learning_rate=0.1, max_depth=5, n_estimators=100;, score=0.941 total time=   0.1s\n",
            "[CV 4/5] END  learning_rate=0.1, max_depth=5, n_estimators=100;, score=0.976 total time=   0.1s\n",
            "[CV 5/5] END  learning_rate=0.1, max_depth=5, n_estimators=100;, score=0.953 total time=   0.1s\n",
            "[CV 1/5] END  learning_rate=0.1, max_depth=5, n_estimators=200;, score=0.965 total time=   0.1s\n",
            "[CV 2/5] END  learning_rate=0.1, max_depth=5, n_estimators=200;, score=0.953 total time=   0.1s\n",
            "[CV 3/5] END  learning_rate=0.1, max_depth=5, n_estimators=200;, score=0.941 total time=   0.1s\n",
            "[CV 4/5] END  learning_rate=0.1, max_depth=5, n_estimators=200;, score=0.976 total time=   0.1s\n",
            "[CV 5/5] END  learning_rate=0.1, max_depth=5, n_estimators=200;, score=0.941 total time=   0.1s\n",
            "[CV 1/5] END  learning_rate=0.1, max_depth=10, n_estimators=10;, score=0.907 total time=   0.0s\n",
            "[CV 2/5] END  learning_rate=0.1, max_depth=10, n_estimators=10;, score=0.929 total time=   0.0s\n",
            "[CV 3/5] END  learning_rate=0.1, max_depth=10, n_estimators=10;, score=0.929 total time=   0.0s\n",
            "[CV 4/5] END  learning_rate=0.1, max_depth=10, n_estimators=10;, score=0.953 total time=   0.0s\n",
            "[CV 5/5] END  learning_rate=0.1, max_depth=10, n_estimators=10;, score=0.953 total time=   0.0s\n",
            "[CV 1/5] END  learning_rate=0.1, max_depth=10, n_estimators=50;, score=0.942 total time=   0.1s\n",
            "[CV 2/5] END  learning_rate=0.1, max_depth=10, n_estimators=50;, score=0.953 total time=   0.1s\n",
            "[CV 3/5] END  learning_rate=0.1, max_depth=10, n_estimators=50;, score=0.941 total time=   0.1s\n",
            "[CV 4/5] END  learning_rate=0.1, max_depth=10, n_estimators=50;, score=0.953 total time=   0.1s\n",
            "[CV 5/5] END  learning_rate=0.1, max_depth=10, n_estimators=50;, score=0.953 total time=   0.1s\n",
            "[CV 1/5] END  learning_rate=0.1, max_depth=10, n_estimators=100;, score=0.965 total time=   0.1s\n",
            "[CV 2/5] END  learning_rate=0.1, max_depth=10, n_estimators=100;, score=0.953 total time=   0.1s\n",
            "[CV 3/5] END  learning_rate=0.1, max_depth=10, n_estimators=100;, score=0.941 total time=   0.1s\n",
            "[CV 4/5] END  learning_rate=0.1, max_depth=10, n_estimators=100;, score=0.953 total time=   0.1s\n",
            "[CV 5/5] END  learning_rate=0.1, max_depth=10, n_estimators=100;, score=0.953 total time=   0.1s\n",
            "[CV 1/5] END  learning_rate=0.1, max_depth=10, n_estimators=200;, score=0.965 total time=   0.1s\n",
            "[CV 2/5] END  learning_rate=0.1, max_depth=10, n_estimators=200;, score=0.953 total time=   0.1s\n",
            "[CV 3/5] END  learning_rate=0.1, max_depth=10, n_estimators=200;, score=0.941 total time=   0.1s\n",
            "[CV 4/5] END  learning_rate=0.1, max_depth=10, n_estimators=200;, score=0.965 total time=   0.1s\n",
            "[CV 5/5] END  learning_rate=0.1, max_depth=10, n_estimators=200;, score=0.941 total time=   0.1s\n",
            "[CV 1/5] END  learning_rate=0.1, max_depth=20, n_estimators=10;, score=0.907 total time=   0.0s\n",
            "[CV 2/5] END  learning_rate=0.1, max_depth=20, n_estimators=10;, score=0.929 total time=   0.0s\n",
            "[CV 3/5] END  learning_rate=0.1, max_depth=20, n_estimators=10;, score=0.929 total time=   0.0s\n",
            "[CV 4/5] END  learning_rate=0.1, max_depth=20, n_estimators=10;, score=0.953 total time=   0.0s\n",
            "[CV 5/5] END  learning_rate=0.1, max_depth=20, n_estimators=10;, score=0.953 total time=   0.0s\n",
            "[CV 1/5] END  learning_rate=0.1, max_depth=20, n_estimators=50;, score=0.942 total time=   0.1s\n",
            "[CV 2/5] END  learning_rate=0.1, max_depth=20, n_estimators=50;, score=0.953 total time=   0.1s\n",
            "[CV 3/5] END  learning_rate=0.1, max_depth=20, n_estimators=50;, score=0.941 total time=   0.1s\n",
            "[CV 4/5] END  learning_rate=0.1, max_depth=20, n_estimators=50;, score=0.953 total time=   0.1s\n",
            "[CV 5/5] END  learning_rate=0.1, max_depth=20, n_estimators=50;, score=0.953 total time=   0.1s\n",
            "[CV 1/5] END  learning_rate=0.1, max_depth=20, n_estimators=100;, score=0.965 total time=   0.1s\n",
            "[CV 2/5] END  learning_rate=0.1, max_depth=20, n_estimators=100;, score=0.953 total time=   0.1s\n",
            "[CV 3/5] END  learning_rate=0.1, max_depth=20, n_estimators=100;, score=0.941 total time=   0.1s\n",
            "[CV 4/5] END  learning_rate=0.1, max_depth=20, n_estimators=100;, score=0.953 total time=   0.1s\n",
            "[CV 5/5] END  learning_rate=0.1, max_depth=20, n_estimators=100;, score=0.953 total time=   0.1s\n",
            "[CV 1/5] END  learning_rate=0.1, max_depth=20, n_estimators=200;, score=0.965 total time=   0.1s\n",
            "[CV 2/5] END  learning_rate=0.1, max_depth=20, n_estimators=200;, score=0.953 total time=   0.1s\n",
            "[CV 3/5] END  learning_rate=0.1, max_depth=20, n_estimators=200;, score=0.941 total time=   0.1s\n",
            "[CV 4/5] END  learning_rate=0.1, max_depth=20, n_estimators=200;, score=0.965 total time=   0.1s\n",
            "[CV 5/5] END  learning_rate=0.1, max_depth=20, n_estimators=200;, score=0.941 total time=   0.1s\n",
            "[CV 1/5] END  learning_rate=0.01, max_depth=3, n_estimators=10;, score=0.907 total time=   0.0s\n",
            "[CV 2/5] END  learning_rate=0.01, max_depth=3, n_estimators=10;, score=0.941 total time=   0.0s\n",
            "[CV 3/5] END  learning_rate=0.01, max_depth=3, n_estimators=10;, score=0.929 total time=   0.0s\n",
            "[CV 4/5] END  learning_rate=0.01, max_depth=3, n_estimators=10;, score=0.941 total time=   0.0s\n",
            "[CV 5/5] END  learning_rate=0.01, max_depth=3, n_estimators=10;, score=0.929 total time=   0.0s\n",
            "[CV 1/5] END  learning_rate=0.01, max_depth=3, n_estimators=50;, score=0.953 total time=   0.0s\n",
            "[CV 2/5] END  learning_rate=0.01, max_depth=3, n_estimators=50;, score=0.965 total time=   0.0s\n",
            "[CV 3/5] END  learning_rate=0.01, max_depth=3, n_estimators=50;, score=0.953 total time=   0.1s\n",
            "[CV 4/5] END  learning_rate=0.01, max_depth=3, n_estimators=50;, score=0.953 total time=   0.0s\n",
            "[CV 5/5] END  learning_rate=0.01, max_depth=3, n_estimators=50;, score=0.953 total time=   0.0s\n",
            "[CV 1/5] END  learning_rate=0.01, max_depth=3, n_estimators=100;, score=0.953 total time=   0.1s\n",
            "[CV 2/5] END  learning_rate=0.01, max_depth=3, n_estimators=100;, score=0.965 total time=   0.1s\n",
            "[CV 3/5] END  learning_rate=0.01, max_depth=3, n_estimators=100;, score=0.941 total time=   0.1s\n",
            "[CV 4/5] END  learning_rate=0.01, max_depth=3, n_estimators=100;, score=0.965 total time=   0.1s\n",
            "[CV 5/5] END  learning_rate=0.01, max_depth=3, n_estimators=100;, score=0.941 total time=   0.1s\n",
            "[CV 1/5] END  learning_rate=0.01, max_depth=3, n_estimators=200;, score=0.965 total time=   0.1s\n",
            "[CV 2/5] END  learning_rate=0.01, max_depth=3, n_estimators=200;, score=0.965 total time=   0.1s\n",
            "[CV 3/5] END  learning_rate=0.01, max_depth=3, n_estimators=200;, score=0.941 total time=   0.1s\n",
            "[CV 4/5] END  learning_rate=0.01, max_depth=3, n_estimators=200;, score=0.976 total time=   0.1s\n",
            "[CV 5/5] END  learning_rate=0.01, max_depth=3, n_estimators=200;, score=0.941 total time=   0.1s\n",
            "[CV 1/5] END  learning_rate=0.01, max_depth=5, n_estimators=10;, score=0.907 total time=   0.0s\n",
            "[CV 2/5] END  learning_rate=0.01, max_depth=5, n_estimators=10;, score=0.929 total time=   0.0s\n",
            "[CV 3/5] END  learning_rate=0.01, max_depth=5, n_estimators=10;, score=0.929 total time=   0.0s\n",
            "[CV 4/5] END  learning_rate=0.01, max_depth=5, n_estimators=10;, score=0.953 total time=   0.0s\n",
            "[CV 5/5] END  learning_rate=0.01, max_depth=5, n_estimators=10;, score=0.953 total time=   0.0s\n",
            "[CV 1/5] END  learning_rate=0.01, max_depth=5, n_estimators=50;, score=0.942 total time=   0.1s\n",
            "[CV 2/5] END  learning_rate=0.01, max_depth=5, n_estimators=50;, score=0.953 total time=   0.1s\n",
            "[CV 3/5] END  learning_rate=0.01, max_depth=5, n_estimators=50;, score=0.941 total time=   0.1s\n",
            "[CV 4/5] END  learning_rate=0.01, max_depth=5, n_estimators=50;, score=0.953 total time=   0.1s\n",
            "[CV 5/5] END  learning_rate=0.01, max_depth=5, n_estimators=50;, score=0.953 total time=   0.1s\n",
            "[CV 1/5] END  learning_rate=0.01, max_depth=5, n_estimators=100;, score=0.965 total time=   0.1s\n",
            "[CV 2/5] END  learning_rate=0.01, max_depth=5, n_estimators=100;, score=0.953 total time=   0.1s\n",
            "[CV 3/5] END  learning_rate=0.01, max_depth=5, n_estimators=100;, score=0.941 total time=   0.1s\n",
            "[CV 4/5] END  learning_rate=0.01, max_depth=5, n_estimators=100;, score=0.976 total time=   0.1s\n",
            "[CV 5/5] END  learning_rate=0.01, max_depth=5, n_estimators=100;, score=0.953 total time=   0.1s\n",
            "[CV 1/5] END  learning_rate=0.01, max_depth=5, n_estimators=200;, score=0.965 total time=   0.1s\n",
            "[CV 2/5] END  learning_rate=0.01, max_depth=5, n_estimators=200;, score=0.953 total time=   0.1s\n",
            "[CV 3/5] END  learning_rate=0.01, max_depth=5, n_estimators=200;, score=0.941 total time=   0.1s\n",
            "[CV 4/5] END  learning_rate=0.01, max_depth=5, n_estimators=200;, score=0.976 total time=   0.1s\n",
            "[CV 5/5] END  learning_rate=0.01, max_depth=5, n_estimators=200;, score=0.941 total time=   0.1s\n",
            "[CV 1/5] END  learning_rate=0.01, max_depth=10, n_estimators=10;, score=0.907 total time=   0.0s\n",
            "[CV 2/5] END  learning_rate=0.01, max_depth=10, n_estimators=10;, score=0.929 total time=   0.0s\n",
            "[CV 3/5] END  learning_rate=0.01, max_depth=10, n_estimators=10;, score=0.929 total time=   0.0s\n",
            "[CV 4/5] END  learning_rate=0.01, max_depth=10, n_estimators=10;, score=0.953 total time=   0.0s\n",
            "[CV 5/5] END  learning_rate=0.01, max_depth=10, n_estimators=10;, score=0.953 total time=   0.0s\n",
            "[CV 1/5] END  learning_rate=0.01, max_depth=10, n_estimators=50;, score=0.942 total time=   0.1s\n",
            "[CV 2/5] END  learning_rate=0.01, max_depth=10, n_estimators=50;, score=0.953 total time=   0.1s\n",
            "[CV 3/5] END  learning_rate=0.01, max_depth=10, n_estimators=50;, score=0.941 total time=   0.1s\n",
            "[CV 4/5] END  learning_rate=0.01, max_depth=10, n_estimators=50;, score=0.953 total time=   0.1s\n",
            "[CV 5/5] END  learning_rate=0.01, max_depth=10, n_estimators=50;, score=0.953 total time=   0.1s\n",
            "[CV 1/5] END  learning_rate=0.01, max_depth=10, n_estimators=100;, score=0.965 total time=   0.1s\n",
            "[CV 2/5] END  learning_rate=0.01, max_depth=10, n_estimators=100;, score=0.953 total time=   0.1s\n",
            "[CV 3/5] END  learning_rate=0.01, max_depth=10, n_estimators=100;, score=0.941 total time=   0.1s\n",
            "[CV 4/5] END  learning_rate=0.01, max_depth=10, n_estimators=100;, score=0.953 total time=   0.1s\n",
            "[CV 5/5] END  learning_rate=0.01, max_depth=10, n_estimators=100;, score=0.953 total time=   0.1s\n",
            "[CV 1/5] END  learning_rate=0.01, max_depth=10, n_estimators=200;, score=0.965 total time=   0.1s\n",
            "[CV 2/5] END  learning_rate=0.01, max_depth=10, n_estimators=200;, score=0.953 total time=   0.1s\n",
            "[CV 3/5] END  learning_rate=0.01, max_depth=10, n_estimators=200;, score=0.941 total time=   0.1s\n",
            "[CV 4/5] END  learning_rate=0.01, max_depth=10, n_estimators=200;, score=0.965 total time=   0.1s\n",
            "[CV 5/5] END  learning_rate=0.01, max_depth=10, n_estimators=200;, score=0.941 total time=   0.1s\n",
            "[CV 1/5] END  learning_rate=0.01, max_depth=20, n_estimators=10;, score=0.907 total time=   0.0s\n",
            "[CV 2/5] END  learning_rate=0.01, max_depth=20, n_estimators=10;, score=0.929 total time=   0.0s\n",
            "[CV 3/5] END  learning_rate=0.01, max_depth=20, n_estimators=10;, score=0.929 total time=   0.0s\n",
            "[CV 4/5] END  learning_rate=0.01, max_depth=20, n_estimators=10;, score=0.953 total time=   0.0s\n",
            "[CV 5/5] END  learning_rate=0.01, max_depth=20, n_estimators=10;, score=0.953 total time=   0.0s\n",
            "[CV 1/5] END  learning_rate=0.01, max_depth=20, n_estimators=50;, score=0.942 total time=   0.1s\n",
            "[CV 2/5] END  learning_rate=0.01, max_depth=20, n_estimators=50;, score=0.953 total time=   0.1s\n",
            "[CV 3/5] END  learning_rate=0.01, max_depth=20, n_estimators=50;, score=0.941 total time=   0.1s\n",
            "[CV 4/5] END  learning_rate=0.01, max_depth=20, n_estimators=50;, score=0.953 total time=   0.1s\n",
            "[CV 5/5] END  learning_rate=0.01, max_depth=20, n_estimators=50;, score=0.953 total time=   0.1s\n",
            "[CV 1/5] END  learning_rate=0.01, max_depth=20, n_estimators=100;, score=0.965 total time=   0.1s\n",
            "[CV 2/5] END  learning_rate=0.01, max_depth=20, n_estimators=100;, score=0.953 total time=   0.1s\n",
            "[CV 3/5] END  learning_rate=0.01, max_depth=20, n_estimators=100;, score=0.941 total time=   0.1s\n",
            "[CV 4/5] END  learning_rate=0.01, max_depth=20, n_estimators=100;, score=0.953 total time=   0.1s\n",
            "[CV 5/5] END  learning_rate=0.01, max_depth=20, n_estimators=100;, score=0.953 total time=   0.1s\n",
            "[CV 1/5] END  learning_rate=0.01, max_depth=20, n_estimators=200;, score=0.965 total time=   0.1s\n",
            "[CV 2/5] END  learning_rate=0.01, max_depth=20, n_estimators=200;, score=0.953 total time=   0.1s\n",
            "[CV 3/5] END  learning_rate=0.01, max_depth=20, n_estimators=200;, score=0.941 total time=   0.1s\n",
            "[CV 4/5] END  learning_rate=0.01, max_depth=20, n_estimators=200;, score=0.965 total time=   0.1s\n",
            "[CV 5/5] END  learning_rate=0.01, max_depth=20, n_estimators=200;, score=0.941 total time=   0.1s\n",
            "[CV 1/5] END  learning_rate=0.001, max_depth=3, n_estimators=10;, score=0.907 total time=   0.0s\n",
            "[CV 2/5] END  learning_rate=0.001, max_depth=3, n_estimators=10;, score=0.941 total time=   0.0s\n",
            "[CV 3/5] END  learning_rate=0.001, max_depth=3, n_estimators=10;, score=0.929 total time=   0.0s\n",
            "[CV 4/5] END  learning_rate=0.001, max_depth=3, n_estimators=10;, score=0.941 total time=   0.0s\n",
            "[CV 5/5] END  learning_rate=0.001, max_depth=3, n_estimators=10;, score=0.929 total time=   0.0s\n",
            "[CV 1/5] END  learning_rate=0.001, max_depth=3, n_estimators=50;, score=0.953 total time=   0.0s\n",
            "[CV 2/5] END  learning_rate=0.001, max_depth=3, n_estimators=50;, score=0.965 total time=   0.0s\n",
            "[CV 3/5] END  learning_rate=0.001, max_depth=3, n_estimators=50;, score=0.953 total time=   0.0s\n",
            "[CV 4/5] END  learning_rate=0.001, max_depth=3, n_estimators=50;, score=0.953 total time=   0.0s\n",
            "[CV 5/5] END  learning_rate=0.001, max_depth=3, n_estimators=50;, score=0.953 total time=   0.0s\n",
            "[CV 1/5] END  learning_rate=0.001, max_depth=3, n_estimators=100;, score=0.953 total time=   0.1s\n",
            "[CV 2/5] END  learning_rate=0.001, max_depth=3, n_estimators=100;, score=0.965 total time=   0.1s\n",
            "[CV 3/5] END  learning_rate=0.001, max_depth=3, n_estimators=100;, score=0.941 total time=   0.1s\n",
            "[CV 4/5] END  learning_rate=0.001, max_depth=3, n_estimators=100;, score=0.965 total time=   0.1s\n",
            "[CV 5/5] END  learning_rate=0.001, max_depth=3, n_estimators=100;, score=0.941 total time=   0.1s\n",
            "[CV 1/5] END  learning_rate=0.001, max_depth=3, n_estimators=200;, score=0.965 total time=   0.1s\n",
            "[CV 2/5] END  learning_rate=0.001, max_depth=3, n_estimators=200;, score=0.965 total time=   0.1s\n",
            "[CV 3/5] END  learning_rate=0.001, max_depth=3, n_estimators=200;, score=0.941 total time=   0.1s\n",
            "[CV 4/5] END  learning_rate=0.001, max_depth=3, n_estimators=200;, score=0.976 total time=   0.1s\n",
            "[CV 5/5] END  learning_rate=0.001, max_depth=3, n_estimators=200;, score=0.941 total time=   0.1s\n",
            "[CV 1/5] END  learning_rate=0.001, max_depth=5, n_estimators=10;, score=0.907 total time=   0.0s\n",
            "[CV 2/5] END  learning_rate=0.001, max_depth=5, n_estimators=10;, score=0.929 total time=   0.0s\n",
            "[CV 3/5] END  learning_rate=0.001, max_depth=5, n_estimators=10;, score=0.929 total time=   0.0s\n",
            "[CV 4/5] END  learning_rate=0.001, max_depth=5, n_estimators=10;, score=0.953 total time=   0.0s\n",
            "[CV 5/5] END  learning_rate=0.001, max_depth=5, n_estimators=10;, score=0.953 total time=   0.0s\n",
            "[CV 1/5] END  learning_rate=0.001, max_depth=5, n_estimators=50;, score=0.942 total time=   0.1s\n",
            "[CV 2/5] END  learning_rate=0.001, max_depth=5, n_estimators=50;, score=0.953 total time=   0.1s\n",
            "[CV 3/5] END  learning_rate=0.001, max_depth=5, n_estimators=50;, score=0.941 total time=   0.1s\n",
            "[CV 4/5] END  learning_rate=0.001, max_depth=5, n_estimators=50;, score=0.953 total time=   0.1s\n",
            "[CV 5/5] END  learning_rate=0.001, max_depth=5, n_estimators=50;, score=0.953 total time=   0.1s\n",
            "[CV 1/5] END  learning_rate=0.001, max_depth=5, n_estimators=100;, score=0.965 total time=   0.1s\n",
            "[CV 2/5] END  learning_rate=0.001, max_depth=5, n_estimators=100;, score=0.953 total time=   0.1s\n",
            "[CV 3/5] END  learning_rate=0.001, max_depth=5, n_estimators=100;, score=0.941 total time=   0.1s\n",
            "[CV 4/5] END  learning_rate=0.001, max_depth=5, n_estimators=100;, score=0.976 total time=   0.1s\n",
            "[CV 5/5] END  learning_rate=0.001, max_depth=5, n_estimators=100;, score=0.953 total time=   0.1s\n",
            "[CV 1/5] END  learning_rate=0.001, max_depth=5, n_estimators=200;, score=0.965 total time=   0.1s\n",
            "[CV 2/5] END  learning_rate=0.001, max_depth=5, n_estimators=200;, score=0.953 total time=   0.1s\n",
            "[CV 3/5] END  learning_rate=0.001, max_depth=5, n_estimators=200;, score=0.941 total time=   0.1s\n",
            "[CV 4/5] END  learning_rate=0.001, max_depth=5, n_estimators=200;, score=0.976 total time=   0.1s\n",
            "[CV 5/5] END  learning_rate=0.001, max_depth=5, n_estimators=200;, score=0.941 total time=   0.1s\n",
            "[CV 1/5] END  learning_rate=0.001, max_depth=10, n_estimators=10;, score=0.907 total time=   0.0s\n",
            "[CV 2/5] END  learning_rate=0.001, max_depth=10, n_estimators=10;, score=0.929 total time=   0.0s\n",
            "[CV 3/5] END  learning_rate=0.001, max_depth=10, n_estimators=10;, score=0.929 total time=   0.0s\n",
            "[CV 4/5] END  learning_rate=0.001, max_depth=10, n_estimators=10;, score=0.953 total time=   0.0s\n",
            "[CV 5/5] END  learning_rate=0.001, max_depth=10, n_estimators=10;, score=0.953 total time=   0.0s\n",
            "[CV 1/5] END  learning_rate=0.001, max_depth=10, n_estimators=50;, score=0.942 total time=   0.1s\n",
            "[CV 2/5] END  learning_rate=0.001, max_depth=10, n_estimators=50;, score=0.953 total time=   0.1s\n",
            "[CV 3/5] END  learning_rate=0.001, max_depth=10, n_estimators=50;, score=0.941 total time=   0.1s\n",
            "[CV 4/5] END  learning_rate=0.001, max_depth=10, n_estimators=50;, score=0.953 total time=   0.1s\n",
            "[CV 5/5] END  learning_rate=0.001, max_depth=10, n_estimators=50;, score=0.953 total time=   0.1s\n",
            "[CV 1/5] END  learning_rate=0.001, max_depth=10, n_estimators=100;, score=0.965 total time=   0.1s\n",
            "[CV 2/5] END  learning_rate=0.001, max_depth=10, n_estimators=100;, score=0.953 total time=   0.1s\n",
            "[CV 3/5] END  learning_rate=0.001, max_depth=10, n_estimators=100;, score=0.941 total time=   0.1s\n",
            "[CV 4/5] END  learning_rate=0.001, max_depth=10, n_estimators=100;, score=0.953 total time=   0.1s\n",
            "[CV 5/5] END  learning_rate=0.001, max_depth=10, n_estimators=100;, score=0.953 total time=   0.1s\n",
            "[CV 1/5] END  learning_rate=0.001, max_depth=10, n_estimators=200;, score=0.965 total time=   0.1s\n",
            "[CV 2/5] END  learning_rate=0.001, max_depth=10, n_estimators=200;, score=0.953 total time=   0.1s\n",
            "[CV 3/5] END  learning_rate=0.001, max_depth=10, n_estimators=200;, score=0.941 total time=   0.1s\n",
            "[CV 4/5] END  learning_rate=0.001, max_depth=10, n_estimators=200;, score=0.965 total time=   0.1s\n",
            "[CV 5/5] END  learning_rate=0.001, max_depth=10, n_estimators=200;, score=0.941 total time=   0.1s\n",
            "[CV 1/5] END  learning_rate=0.001, max_depth=20, n_estimators=10;, score=0.907 total time=   0.0s\n",
            "[CV 2/5] END  learning_rate=0.001, max_depth=20, n_estimators=10;, score=0.929 total time=   0.0s\n",
            "[CV 3/5] END  learning_rate=0.001, max_depth=20, n_estimators=10;, score=0.929 total time=   0.0s\n",
            "[CV 4/5] END  learning_rate=0.001, max_depth=20, n_estimators=10;, score=0.953 total time=   0.0s\n",
            "[CV 5/5] END  learning_rate=0.001, max_depth=20, n_estimators=10;, score=0.953 total time=   0.0s\n",
            "[CV 1/5] END  learning_rate=0.001, max_depth=20, n_estimators=50;, score=0.942 total time=   0.1s\n",
            "[CV 2/5] END  learning_rate=0.001, max_depth=20, n_estimators=50;, score=0.953 total time=   0.1s\n",
            "[CV 3/5] END  learning_rate=0.001, max_depth=20, n_estimators=50;, score=0.941 total time=   0.1s\n",
            "[CV 4/5] END  learning_rate=0.001, max_depth=20, n_estimators=50;, score=0.953 total time=   0.1s\n",
            "[CV 5/5] END  learning_rate=0.001, max_depth=20, n_estimators=50;, score=0.953 total time=   0.1s\n",
            "[CV 1/5] END  learning_rate=0.001, max_depth=20, n_estimators=100;, score=0.965 total time=   0.1s\n",
            "[CV 2/5] END  learning_rate=0.001, max_depth=20, n_estimators=100;, score=0.953 total time=   0.1s\n",
            "[CV 3/5] END  learning_rate=0.001, max_depth=20, n_estimators=100;, score=0.941 total time=   0.1s\n",
            "[CV 4/5] END  learning_rate=0.001, max_depth=20, n_estimators=100;, score=0.953 total time=   0.1s\n",
            "[CV 5/5] END  learning_rate=0.001, max_depth=20, n_estimators=100;, score=0.953 total time=   0.1s\n",
            "[CV 1/5] END  learning_rate=0.001, max_depth=20, n_estimators=200;, score=0.965 total time=   0.1s\n",
            "[CV 2/5] END  learning_rate=0.001, max_depth=20, n_estimators=200;, score=0.953 total time=   0.1s\n",
            "[CV 3/5] END  learning_rate=0.001, max_depth=20, n_estimators=200;, score=0.941 total time=   0.1s\n",
            "[CV 4/5] END  learning_rate=0.001, max_depth=20, n_estimators=200;, score=0.965 total time=   0.1s\n",
            "[CV 5/5] END  learning_rate=0.001, max_depth=20, n_estimators=200;, score=0.941 total time=   0.1s\n"
          ]
        },
        {
          "output_type": "execute_result",
          "data": {
            "text/plain": [
              "GridSearchCV(estimator=XGBClassifier(),\n",
              "             param_grid={' learning_rate': [1, 0.5, 0.1, 0.01, 0.001],\n",
              "                         'max_depth': [3, 5, 10, 20],\n",
              "                         'n_estimators': [10, 50, 100, 200]},\n",
              "             verbose=3)"
            ]
          },
          "metadata": {},
          "execution_count": 40
        }
      ],
      "source": [
        "grid.fit(X_train,Y_train)"
      ]
    },
    {
      "cell_type": "code",
      "execution_count": 41,
      "metadata": {
        "colab": {
          "base_uri": "https://localhost:8080/"
        },
        "id": "1xgG2_M4ysUW",
        "outputId": "b16fe072-e7d6-4c6e-db18-b92bc21295af"
      },
      "outputs": [
        {
          "output_type": "execute_result",
          "data": {
            "text/plain": [
              "{' learning_rate': 1, 'max_depth': 3, 'n_estimators': 200}"
            ]
          },
          "metadata": {},
          "execution_count": 41
        }
      ],
      "source": [
        "# To  find the parameters givingmaximum accuracy\n",
        "grid.best_params_"
      ]
    },
    {
      "cell_type": "code",
      "execution_count": 42,
      "metadata": {
        "colab": {
          "base_uri": "https://localhost:8080/"
        },
        "id": "BzpSFGB4ysUX",
        "outputId": "0f53c483-d35c-49d2-a6b2-0bfb7f80d87f"
      },
      "outputs": [
        {
          "output_type": "execute_result",
          "data": {
            "text/plain": [
              "XGBClassifier(learning_rate=1, max_depth=5, n_estimators=50)"
            ]
          },
          "metadata": {},
          "execution_count": 42
        }
      ],
      "source": [
        "# Create new model using the same parameters\n",
        "new_model=XGBClassifier(learning_rate= 1, max_depth= 5, n_estimators= 50)\n",
        "new_model.fit(X_train,Y_train)"
      ]
    },
    {
      "cell_type": "code",
      "execution_count": 43,
      "metadata": {
        "colab": {
          "base_uri": "https://localhost:8080/"
        },
        "id": "nVsQgCgVysUX",
        "outputId": "bd564e5c-6776-4ca4-8d24-f4705d55b0d2"
      },
      "outputs": [
        {
          "output_type": "execute_result",
          "data": {
            "text/plain": [
              "0.951048951048951"
            ]
          },
          "metadata": {},
          "execution_count": 43
        }
      ],
      "source": [
        "y_pred_new = new_model.predict(X_test)\n",
        "predictions_new = [round(value) for value in y_pred_new]\n",
        "accuracy_new = accuracy_score(Y_test,predictions_new)\n",
        "accuracy_new"
      ]
    },
    {
      "cell_type": "code",
      "execution_count": 45,
      "metadata": {
        "colab": {
          "base_uri": "https://localhost:8080/",
          "height": 130
        },
        "id": "IPCD3I7QysUX",
        "outputId": "b007a7e7-f706-4e9e-a296-456a8832e740"
      },
      "outputs": [
        {
          "output_type": "error",
          "ename": "SyntaxError",
          "evalue": "ignored",
          "traceback": [
            "\u001b[0;36m  File \u001b[0;32m\"<ipython-input-45-168ae9487465>\"\u001b[0;36m, line \u001b[0;32m1\u001b[0m\n\u001b[0;31m    Randomized Search Cv\u001b[0m\n\u001b[0m                    ^\u001b[0m\n\u001b[0;31mSyntaxError\u001b[0m\u001b[0;31m:\u001b[0m invalid syntax\n"
          ]
        }
      ],
      "source": [
        "Randomized Search Cv"
      ]
    },
    {
      "cell_type": "code",
      "execution_count": 46,
      "metadata": {
        "colab": {
          "base_uri": "https://localhost:8080/"
        },
        "id": "SnUJU4ZPysUX",
        "outputId": "935059f2-f4e5-4fba-8534-57dac2b912d0"
      },
      "outputs": [
        {
          "output_type": "execute_result",
          "data": {
            "text/plain": [
              "[200, 400, 600, 800, 1000, 1200, 1400, 1600, 1800, 2000]"
            ]
          },
          "metadata": {},
          "execution_count": 46
        }
      ],
      "source": [
        "[int(x) for x in np.linspace(start = 200, stop = 2000, num = 10)]"
      ]
    },
    {
      "cell_type": "code",
      "execution_count": 47,
      "metadata": {
        "colab": {
          "base_uri": "https://localhost:8080/"
        },
        "id": "rAmTZ-0rysUX",
        "outputId": "0fdc642d-0d9e-4959-e990-cc6c6497d09d"
      },
      "outputs": [
        {
          "output_type": "execute_result",
          "data": {
            "text/plain": [
              "[10, 120, 230, 340, 450, 560, 670, 780, 890, 1000]"
            ]
          },
          "metadata": {},
          "execution_count": 47
        }
      ],
      "source": [
        "[int(x) for x in np.linspace(10, 1000,10)]"
      ]
    },
    {
      "cell_type": "code",
      "execution_count": 48,
      "metadata": {
        "colab": {
          "base_uri": "https://localhost:8080/"
        },
        "id": "Jty9jShKysUY",
        "outputId": "a5f1201a-445f-4c51-fdca-d330ccad2c4c"
      },
      "outputs": [
        {
          "output_type": "stream",
          "name": "stdout",
          "text": [
            "{'n_estimators': [200, 400, 600, 800, 1000, 1200, 1400, 1600, 1800, 2000], 'max_features': ['auto', 'sqrt', 'log2'], 'max_depth': [10, 120, 230, 340, 450, 560, 670, 780, 890, 1000], 'min_samples_split': [2, 3, 4, 5, 7, 9], 'min_samples_leaf': [1, 2, 4, 6, 8], 'criterion': ['entropy', 'gini']}\n"
          ]
        }
      ],
      "source": [
        "import numpy as np\n",
        "from sklearn.model_selection import RandomizedSearchCV\n",
        "# Number of trees in random forest\n",
        "n_estimators = [int(x) for x in \n",
        "        np.linspace(start = 200, stop = 2000, num = 10)]\n",
        "# Number of features to consider at every split\n",
        "max_features = ['auto', 'sqrt','log2']\n",
        "# Maximum number of levels in tree\n",
        "max_depth = [int(x) for x in np.linspace(10, 1000,10)]\n",
        "# Minimum number of samples required to split a node\n",
        "min_samples_split = [2,3,4,5,7,9]\n",
        "# Minimum number of samples required at each leaf node\n",
        "min_samples_leaf = [1, 2, 4,6,8]\n",
        "# Create the random grid\n",
        "random_grid = {'n_estimators': n_estimators,\n",
        "               'max_features': max_features,\n",
        "               'max_depth': max_depth,\n",
        "               'min_samples_split': min_samples_split,\n",
        "               'min_samples_leaf': min_samples_leaf,\n",
        "              'criterion':['entropy','gini']}\n",
        "print(random_grid)"
      ]
    },
    {
      "cell_type": "code",
      "execution_count": 49,
      "metadata": {
        "colab": {
          "base_uri": "https://localhost:8080/"
        },
        "id": "0h4mcfptysUY",
        "outputId": "6c16eb6d-dbdc-4fee-f548-cf7f01e08735"
      },
      "outputs": [
        {
          "output_type": "execute_result",
          "data": {
            "text/plain": [
              "RandomForestClassifier(criterion='entropy', n_estimators=10, random_state=0)"
            ]
          },
          "metadata": {},
          "execution_count": 49
        }
      ],
      "source": [
        "from sklearn.ensemble import RandomForestClassifier\n",
        "forest = RandomForestClassifier(n_estimators=10, criterion = 'entropy', random_state=0)\n",
        "forest.fit(X_train, Y_train)"
      ]
    },
    {
      "cell_type": "code",
      "execution_count": 50,
      "metadata": {
        "colab": {
          "base_uri": "https://localhost:8080/"
        },
        "id": "Z6m3c8ZrysUY",
        "outputId": "a7830b10-b5ba-416e-fb72-9864aad4dbb2"
      },
      "outputs": [
        {
          "output_type": "stream",
          "name": "stdout",
          "text": [
            "Fitting 3 folds for each of 100 candidates, totalling 300 fits\n"
          ]
        },
        {
          "output_type": "execute_result",
          "data": {
            "text/plain": [
              "RandomizedSearchCV(cv=3,\n",
              "                   estimator=RandomForestClassifier(criterion='entropy',\n",
              "                                                    n_estimators=10,\n",
              "                                                    random_state=0),\n",
              "                   n_iter=100, n_jobs=-1,\n",
              "                   param_distributions={'criterion': ['entropy', 'gini'],\n",
              "                                        'max_depth': [10, 120, 230, 340, 450,\n",
              "                                                      560, 670, 780, 890,\n",
              "                                                      1000],\n",
              "                                        'max_features': ['auto', 'sqrt',\n",
              "                                                         'log2'],\n",
              "                                        'min_samples_leaf': [1, 2, 4, 6, 8],\n",
              "                                        'min_samples_split': [2, 3, 4, 5, 7, 9],\n",
              "                                        'n_estimators': [200, 400, 600, 800,\n",
              "                                                         1000, 1200, 1400, 1600,\n",
              "                                                         1800, 2000]},\n",
              "                   random_state=100, verbose=2)"
            ]
          },
          "metadata": {},
          "execution_count": 50
        }
      ],
      "source": [
        "rf_randomcv=RandomizedSearchCV(estimator=forest,\n",
        "                               param_distributions=random_grid,n_iter=100,\n",
        "                               cv=3,verbose=2,\n",
        "                               random_state=100,n_jobs=-1)\n",
        "### fit the randomized model\n",
        "rf_randomcv.fit(X_train,Y_train)"
      ]
    },
    {
      "cell_type": "code",
      "execution_count": 51,
      "metadata": {
        "colab": {
          "base_uri": "https://localhost:8080/"
        },
        "id": "i4P1A7GYysUY",
        "outputId": "602cbe42-905a-40d7-b0f7-c3066aca4429"
      },
      "outputs": [
        {
          "output_type": "execute_result",
          "data": {
            "text/plain": [
              "{'n_estimators': 1400,\n",
              " 'min_samples_split': 7,\n",
              " 'min_samples_leaf': 2,\n",
              " 'max_features': 'log2',\n",
              " 'max_depth': 890,\n",
              " 'criterion': 'entropy'}"
            ]
          },
          "metadata": {},
          "execution_count": 51
        }
      ],
      "source": [
        "rf_randomcv.best_params_"
      ]
    },
    {
      "cell_type": "code",
      "execution_count": 52,
      "metadata": {
        "colab": {
          "base_uri": "https://localhost:8080/"
        },
        "id": "BcEGhJ40ysUZ",
        "outputId": "cddf5eeb-ffac-4a9f-bed4-a1070bd344bc"
      },
      "outputs": [
        {
          "output_type": "execute_result",
          "data": {
            "text/plain": [
              "RandomizedSearchCV(cv=3,\n",
              "                   estimator=RandomForestClassifier(criterion='entropy',\n",
              "                                                    n_estimators=10,\n",
              "                                                    random_state=0),\n",
              "                   n_iter=100, n_jobs=-1,\n",
              "                   param_distributions={'criterion': ['entropy', 'gini'],\n",
              "                                        'max_depth': [10, 120, 230, 340, 450,\n",
              "                                                      560, 670, 780, 890,\n",
              "                                                      1000],\n",
              "                                        'max_features': ['auto', 'sqrt',\n",
              "                                                         'log2'],\n",
              "                                        'min_samples_leaf': [1, 2, 4, 6, 8],\n",
              "                                        'min_samples_split': [2, 3, 4, 5, 7, 9],\n",
              "                                        'n_estimators': [200, 400, 600, 800,\n",
              "                                                         1000, 1200, 1400, 1600,\n",
              "                                                         1800, 2000]},\n",
              "                   random_state=100, verbose=2)"
            ]
          },
          "metadata": {},
          "execution_count": 52
        }
      ],
      "source": [
        "rf_randomcv"
      ]
    },
    {
      "cell_type": "code",
      "execution_count": 53,
      "metadata": {
        "colab": {
          "base_uri": "https://localhost:8080/"
        },
        "id": "bjy0Q5o9ysUZ",
        "outputId": "819a9fa5-773d-4c3b-82f8-3765ffa550c6"
      },
      "outputs": [
        {
          "output_type": "execute_result",
          "data": {
            "text/plain": [
              "RandomForestClassifier(criterion='entropy', max_depth=890, max_features='log2',\n",
              "                       min_samples_leaf=2, min_samples_split=7,\n",
              "                       n_estimators=1400, random_state=0)"
            ]
          },
          "metadata": {},
          "execution_count": 53
        }
      ],
      "source": [
        "rf_randomcv.best_estimator_"
      ]
    },
    {
      "cell_type": "code",
      "execution_count": 54,
      "metadata": {
        "id": "_7kouPsIysUZ"
      },
      "outputs": [],
      "source": [
        "\n",
        "\n",
        "best_random_grid=rf_randomcv.best_estimator_"
      ]
    },
    {
      "cell_type": "code",
      "execution_count": 55,
      "metadata": {
        "colab": {
          "base_uri": "https://localhost:8080/"
        },
        "id": "uvFzLC1xysUZ",
        "outputId": "6617d4d8-dc67-41be-9a91-24233ab15e73"
      },
      "outputs": [
        {
          "output_type": "stream",
          "name": "stdout",
          "text": [
            "[[87  3]\n",
            " [ 1 52]]\n",
            "Accuracy Score 0.972027972027972\n",
            "Classification report:               precision    recall  f1-score   support\n",
            "\n",
            "           0       0.99      0.97      0.98        90\n",
            "           1       0.95      0.98      0.96        53\n",
            "\n",
            "    accuracy                           0.97       143\n",
            "   macro avg       0.97      0.97      0.97       143\n",
            "weighted avg       0.97      0.97      0.97       143\n",
            "\n"
          ]
        }
      ],
      "source": [
        "from sklearn.metrics import accuracy_score\n",
        "y_pred=best_random_grid.predict(X_test)\n",
        "print(confusion_matrix(Y_test,y_pred))\n",
        "print(\"Accuracy Score {}\".format(accuracy_score(Y_test,y_pred)))\n",
        "print(\"Classification report: {}\".format(classification_report(Y_test,y_pred)))"
      ]
    },
    {
      "cell_type": "code",
      "execution_count": 56,
      "metadata": {
        "id": "X5qeNxFdysUZ"
      },
      "outputs": [],
      "source": [
        "# BaggingClassifier"
      ]
    },
    {
      "cell_type": "code",
      "execution_count": 57,
      "metadata": {
        "colab": {
          "base_uri": "https://localhost:8080/"
        },
        "id": "bGWjmA3gysUa",
        "outputId": "594c7fac-f015-4a29-f6ab-066ba3400908"
      },
      "outputs": [
        {
          "output_type": "execute_result",
          "data": {
            "text/plain": [
              "0.9440559440559441"
            ]
          },
          "metadata": {},
          "execution_count": 57
        }
      ],
      "source": [
        "from sklearn.ensemble import BaggingClassifier\n",
        "from sklearn import tree\n",
        "model = BaggingClassifier(tree.DecisionTreeClassifier(random_state=1))\n",
        "model.fit(X_train, Y_train)\n",
        "model.score(X_test,Y_test)"
      ]
    },
    {
      "cell_type": "markdown",
      "metadata": {
        "id": "DMnh5pKKysUa"
      },
      "source": [
        "*** Parameters used in the  algorithms:\n",
        "\n",
        "* base_estimator:\n",
        "---It defines the base estimator to fit on random subsets of the dataset.\n",
        "---When nothing is specified, the base estimator is a decision tree.\n",
        "\n",
        "* n_estimators:\n",
        "---It is the number of base estimators to be created.\n",
        "---The number of estimators should be carefully tuned as a large number would take a very long time to run, while a very ----small number might not provide the best results.\n",
        "\n",
        "* max_samples:\n",
        "---This parameter controls the size of the subsets.\n",
        "---It is the maximum number of samples to train each base estimator.\n",
        "\n",
        "* max_features:\n",
        "---Controls the number of features to draw from the whole dataset.\n",
        "---It defines the maximum number of features required to train each base estimator.\n",
        "\n",
        "* n_jobs:\n",
        "---The number of jobs to run in parallel.\n",
        "---Set this value equal to the cores in your system.\n",
        "---If -1, the number of jobs is set to the number of cores.\n",
        "\n",
        "* random_state:\n",
        "---It specifies the method of random split. When random state value is same for two models, the random selection is same for both models.\n",
        "---This parameter is useful when you want to compare different models.\n",
        " "
      ]
    },
    {
      "cell_type": "code",
      "execution_count": null,
      "metadata": {
        "id": "dj3Hlty7ysUb"
      },
      "outputs": [],
      "source": [
        "# AdaBoostClassifier"
      ]
    },
    {
      "cell_type": "code",
      "execution_count": 58,
      "metadata": {
        "colab": {
          "base_uri": "https://localhost:8080/"
        },
        "id": "SG1QNxBAysUb",
        "outputId": "d136ab58-5935-44f6-acf4-ac87224c5641"
      },
      "outputs": [
        {
          "output_type": "execute_result",
          "data": {
            "text/plain": [
              "0.951048951048951"
            ]
          },
          "metadata": {},
          "execution_count": 58
        }
      ],
      "source": [
        "from sklearn.ensemble import AdaBoostClassifier\n",
        "model = AdaBoostClassifier(random_state=1)\n",
        "model.fit(X_train, Y_train)\n",
        "model.score(X_test,Y_test)"
      ]
    },
    {
      "cell_type": "code",
      "execution_count": 59,
      "metadata": {
        "id": "ICDgs4iXysUc"
      },
      "outputs": [],
      "source": [
        "# Gradient Boosting (GBM)"
      ]
    },
    {
      "cell_type": "code",
      "execution_count": 60,
      "metadata": {
        "colab": {
          "base_uri": "https://localhost:8080/"
        },
        "id": "LQuYLmpsysUc",
        "outputId": "97763bf5-bb7e-4fe7-b5aa-6b3ba58db2d7"
      },
      "outputs": [
        {
          "output_type": "execute_result",
          "data": {
            "text/plain": [
              "0.958041958041958"
            ]
          },
          "metadata": {},
          "execution_count": 60
        }
      ],
      "source": [
        "from sklearn.ensemble import GradientBoostingClassifier\n",
        "model= GradientBoostingClassifier(learning_rate=0.01,random_state=1)\n",
        "model.fit(X_train, Y_train)\n",
        "model.score(X_test,Y_test)"
      ]
    }
  ],
  "metadata": {
    "kernelspec": {
      "display_name": "Python 3",
      "language": "python",
      "name": "python3"
    },
    "language_info": {
      "codemirror_mode": {
        "name": "ipython",
        "version": 3
      },
      "file_extension": ".py",
      "mimetype": "text/x-python",
      "name": "python",
      "nbconvert_exporter": "python",
      "pygments_lexer": "ipython3",
      "version": "3.8.3"
    },
    "colab": {
      "provenance": [],
      "include_colab_link": true
    }
  },
  "nbformat": 4,
  "nbformat_minor": 0
}